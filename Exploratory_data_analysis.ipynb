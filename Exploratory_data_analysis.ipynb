{
 "cells": [
  {
   "cell_type": "markdown",
   "id": "691c61ea",
   "metadata": {},
   "source": [
    "# ASSIGNMENT 3 FOR PPSDA"
   ]
  },
  {
   "cell_type": "code",
   "execution_count": 148,
   "id": "91038682",
   "metadata": {},
   "outputs": [],
   "source": [
    "#Group members\n",
    "#David Ishimwe Ruberamitwe\n",
    "#Patrick Fashingabo\n",
    "#Zakeus Sinzabankabo\n",
    "#Moise Sangwa Mukunzi\n",
    "\n",
    "\n",
    "\n",
    "import pandas as pd# extract an manipulate the data\n",
    "import matplotlib.pyplot as plt# helps in visualization\n",
    "import seaborn as sns#helps to plot box plot in detecting outliers"
   ]
  },
  {
   "cell_type": "markdown",
   "id": "896f0539",
   "metadata": {},
   "source": [
    "# Data processing"
   ]
  },
  {
   "cell_type": "code",
   "execution_count": 149,
   "id": "80be606a",
   "metadata": {},
   "outputs": [
    {
     "data": {
      "text/html": [
       "<div>\n",
       "<style scoped>\n",
       "    .dataframe tbody tr th:only-of-type {\n",
       "        vertical-align: middle;\n",
       "    }\n",
       "\n",
       "    .dataframe tbody tr th {\n",
       "        vertical-align: top;\n",
       "    }\n",
       "\n",
       "    .dataframe thead th {\n",
       "        text-align: right;\n",
       "    }\n",
       "</style>\n",
       "<table border=\"1\" class=\"dataframe\">\n",
       "  <thead>\n",
       "    <tr style=\"text-align: right;\">\n",
       "      <th></th>\n",
       "      <th>Region/Country/Area</th>\n",
       "      <th>Unnamed: 1</th>\n",
       "      <th>Year</th>\n",
       "      <th>Series</th>\n",
       "      <th>Value</th>\n",
       "      <th>Footnotes</th>\n",
       "      <th>Source</th>\n",
       "    </tr>\n",
       "  </thead>\n",
       "  <tbody>\n",
       "    <tr>\n",
       "      <th>0</th>\n",
       "      <td>1</td>\n",
       "      <td>Total, all countries or areas</td>\n",
       "      <td>1985</td>\n",
       "      <td>GDP in current prices (millions of US dollars)</td>\n",
       "      <td>1.356724e+07</td>\n",
       "      <td>NaN</td>\n",
       "      <td>United Nations Statistics Division, New York, ...</td>\n",
       "    </tr>\n",
       "    <tr>\n",
       "      <th>1</th>\n",
       "      <td>1</td>\n",
       "      <td>Total, all countries or areas</td>\n",
       "      <td>1995</td>\n",
       "      <td>GDP in current prices (millions of US dollars)</td>\n",
       "      <td>3.112827e+07</td>\n",
       "      <td>NaN</td>\n",
       "      <td>United Nations Statistics Division, New York, ...</td>\n",
       "    </tr>\n",
       "    <tr>\n",
       "      <th>2</th>\n",
       "      <td>1</td>\n",
       "      <td>Total, all countries or areas</td>\n",
       "      <td>2005</td>\n",
       "      <td>GDP in current prices (millions of US dollars)</td>\n",
       "      <td>4.760504e+07</td>\n",
       "      <td>NaN</td>\n",
       "      <td>United Nations Statistics Division, New York, ...</td>\n",
       "    </tr>\n",
       "    <tr>\n",
       "      <th>3</th>\n",
       "      <td>1</td>\n",
       "      <td>Total, all countries or areas</td>\n",
       "      <td>2010</td>\n",
       "      <td>GDP in current prices (millions of US dollars)</td>\n",
       "      <td>6.623183e+07</td>\n",
       "      <td>NaN</td>\n",
       "      <td>United Nations Statistics Division, New York, ...</td>\n",
       "    </tr>\n",
       "    <tr>\n",
       "      <th>4</th>\n",
       "      <td>1</td>\n",
       "      <td>Total, all countries or areas</td>\n",
       "      <td>2015</td>\n",
       "      <td>GDP in current prices (millions of US dollars)</td>\n",
       "      <td>7.488265e+07</td>\n",
       "      <td>NaN</td>\n",
       "      <td>United Nations Statistics Division, New York, ...</td>\n",
       "    </tr>\n",
       "    <tr>\n",
       "      <th>...</th>\n",
       "      <td>...</td>\n",
       "      <td>...</td>\n",
       "      <td>...</td>\n",
       "      <td>...</td>\n",
       "      <td>...</td>\n",
       "      <td>...</td>\n",
       "      <td>...</td>\n",
       "    </tr>\n",
       "    <tr>\n",
       "      <th>6639</th>\n",
       "      <td>716</td>\n",
       "      <td>Zimbabwe</td>\n",
       "      <td>2005</td>\n",
       "      <td>GDP real rates of growth (percent)</td>\n",
       "      <td>-4.063100e+00</td>\n",
       "      <td>NaN</td>\n",
       "      <td>United Nations Statistics Division, New York, ...</td>\n",
       "    </tr>\n",
       "    <tr>\n",
       "      <th>6640</th>\n",
       "      <td>716</td>\n",
       "      <td>Zimbabwe</td>\n",
       "      <td>2010</td>\n",
       "      <td>GDP real rates of growth (percent)</td>\n",
       "      <td>1.967530e+01</td>\n",
       "      <td>NaN</td>\n",
       "      <td>United Nations Statistics Division, New York, ...</td>\n",
       "    </tr>\n",
       "    <tr>\n",
       "      <th>6641</th>\n",
       "      <td>716</td>\n",
       "      <td>Zimbabwe</td>\n",
       "      <td>2015</td>\n",
       "      <td>GDP real rates of growth (percent)</td>\n",
       "      <td>1.779900e+00</td>\n",
       "      <td>NaN</td>\n",
       "      <td>United Nations Statistics Division, New York, ...</td>\n",
       "    </tr>\n",
       "    <tr>\n",
       "      <th>6642</th>\n",
       "      <td>716</td>\n",
       "      <td>Zimbabwe</td>\n",
       "      <td>2017</td>\n",
       "      <td>GDP real rates of growth (percent)</td>\n",
       "      <td>4.704000e+00</td>\n",
       "      <td>NaN</td>\n",
       "      <td>United Nations Statistics Division, New York, ...</td>\n",
       "    </tr>\n",
       "    <tr>\n",
       "      <th>6643</th>\n",
       "      <td>716</td>\n",
       "      <td>Zimbabwe</td>\n",
       "      <td>2018</td>\n",
       "      <td>GDP real rates of growth (percent)</td>\n",
       "      <td>4.829700e+00</td>\n",
       "      <td>NaN</td>\n",
       "      <td>United Nations Statistics Division, New York, ...</td>\n",
       "    </tr>\n",
       "  </tbody>\n",
       "</table>\n",
       "<p>6644 rows × 7 columns</p>\n",
       "</div>"
      ],
      "text/plain": [
       "      Region/Country/Area                     Unnamed: 1  Year  \\\n",
       "0                       1  Total, all countries or areas  1985   \n",
       "1                       1  Total, all countries or areas  1995   \n",
       "2                       1  Total, all countries or areas  2005   \n",
       "3                       1  Total, all countries or areas  2010   \n",
       "4                       1  Total, all countries or areas  2015   \n",
       "...                   ...                            ...   ...   \n",
       "6639                  716                       Zimbabwe  2005   \n",
       "6640                  716                       Zimbabwe  2010   \n",
       "6641                  716                       Zimbabwe  2015   \n",
       "6642                  716                       Zimbabwe  2017   \n",
       "6643                  716                       Zimbabwe  2018   \n",
       "\n",
       "                                              Series         Value Footnotes  \\\n",
       "0     GDP in current prices (millions of US dollars)  1.356724e+07       NaN   \n",
       "1     GDP in current prices (millions of US dollars)  3.112827e+07       NaN   \n",
       "2     GDP in current prices (millions of US dollars)  4.760504e+07       NaN   \n",
       "3     GDP in current prices (millions of US dollars)  6.623183e+07       NaN   \n",
       "4     GDP in current prices (millions of US dollars)  7.488265e+07       NaN   \n",
       "...                                              ...           ...       ...   \n",
       "6639              GDP real rates of growth (percent) -4.063100e+00       NaN   \n",
       "6640              GDP real rates of growth (percent)  1.967530e+01       NaN   \n",
       "6641              GDP real rates of growth (percent)  1.779900e+00       NaN   \n",
       "6642              GDP real rates of growth (percent)  4.704000e+00       NaN   \n",
       "6643              GDP real rates of growth (percent)  4.829700e+00       NaN   \n",
       "\n",
       "                                                 Source  \n",
       "0     United Nations Statistics Division, New York, ...  \n",
       "1     United Nations Statistics Division, New York, ...  \n",
       "2     United Nations Statistics Division, New York, ...  \n",
       "3     United Nations Statistics Division, New York, ...  \n",
       "4     United Nations Statistics Division, New York, ...  \n",
       "...                                                 ...  \n",
       "6639  United Nations Statistics Division, New York, ...  \n",
       "6640  United Nations Statistics Division, New York, ...  \n",
       "6641  United Nations Statistics Division, New York, ...  \n",
       "6642  United Nations Statistics Division, New York, ...  \n",
       "6643  United Nations Statistics Division, New York, ...  \n",
       "\n",
       "[6644 rows x 7 columns]"
      ]
     },
     "execution_count": 149,
     "metadata": {},
     "output_type": "execute_result"
    }
   ],
   "source": [
    "#Load and assemble the data\n",
    "GDP_data = pd.read_csv('GDP and GDP Per Capita.csv', skiprows = [0])\n",
    "GDP_data"
   ]
  },
  {
   "cell_type": "code",
   "execution_count": 150,
   "id": "5c1d0019",
   "metadata": {},
   "outputs": [
    {
     "data": {
      "text/html": [
       "<div>\n",
       "<style scoped>\n",
       "    .dataframe tbody tr th:only-of-type {\n",
       "        vertical-align: middle;\n",
       "    }\n",
       "\n",
       "    .dataframe tbody tr th {\n",
       "        vertical-align: top;\n",
       "    }\n",
       "\n",
       "    .dataframe thead th {\n",
       "        text-align: right;\n",
       "    }\n",
       "</style>\n",
       "<table border=\"1\" class=\"dataframe\">\n",
       "  <thead>\n",
       "    <tr style=\"text-align: right;\">\n",
       "      <th></th>\n",
       "      <th>Region/Country/Area</th>\n",
       "      <th>Unnamed: 1</th>\n",
       "      <th>Year</th>\n",
       "      <th>Series</th>\n",
       "      <th>Value</th>\n",
       "      <th>Footnotes</th>\n",
       "      <th>Source</th>\n",
       "    </tr>\n",
       "  </thead>\n",
       "  <tbody>\n",
       "    <tr>\n",
       "      <th>0</th>\n",
       "      <td>1</td>\n",
       "      <td>Total, all countries or areas</td>\n",
       "      <td>1985</td>\n",
       "      <td>GDP in current prices (millions of US dollars)</td>\n",
       "      <td>1.356724e+07</td>\n",
       "      <td>NaN</td>\n",
       "      <td>United Nations Statistics Division, New York, ...</td>\n",
       "    </tr>\n",
       "    <tr>\n",
       "      <th>1</th>\n",
       "      <td>1</td>\n",
       "      <td>Total, all countries or areas</td>\n",
       "      <td>1995</td>\n",
       "      <td>GDP in current prices (millions of US dollars)</td>\n",
       "      <td>3.112827e+07</td>\n",
       "      <td>NaN</td>\n",
       "      <td>United Nations Statistics Division, New York, ...</td>\n",
       "    </tr>\n",
       "    <tr>\n",
       "      <th>2</th>\n",
       "      <td>1</td>\n",
       "      <td>Total, all countries or areas</td>\n",
       "      <td>2005</td>\n",
       "      <td>GDP in current prices (millions of US dollars)</td>\n",
       "      <td>4.760504e+07</td>\n",
       "      <td>NaN</td>\n",
       "      <td>United Nations Statistics Division, New York, ...</td>\n",
       "    </tr>\n",
       "    <tr>\n",
       "      <th>3</th>\n",
       "      <td>1</td>\n",
       "      <td>Total, all countries or areas</td>\n",
       "      <td>2010</td>\n",
       "      <td>GDP in current prices (millions of US dollars)</td>\n",
       "      <td>6.623183e+07</td>\n",
       "      <td>NaN</td>\n",
       "      <td>United Nations Statistics Division, New York, ...</td>\n",
       "    </tr>\n",
       "    <tr>\n",
       "      <th>4</th>\n",
       "      <td>1</td>\n",
       "      <td>Total, all countries or areas</td>\n",
       "      <td>2015</td>\n",
       "      <td>GDP in current prices (millions of US dollars)</td>\n",
       "      <td>7.488265e+07</td>\n",
       "      <td>NaN</td>\n",
       "      <td>United Nations Statistics Division, New York, ...</td>\n",
       "    </tr>\n",
       "    <tr>\n",
       "      <th>5</th>\n",
       "      <td>1</td>\n",
       "      <td>Total, all countries or areas</td>\n",
       "      <td>2017</td>\n",
       "      <td>GDP in current prices (millions of US dollars)</td>\n",
       "      <td>8.078920e+07</td>\n",
       "      <td>NaN</td>\n",
       "      <td>United Nations Statistics Division, New York, ...</td>\n",
       "    </tr>\n",
       "    <tr>\n",
       "      <th>6</th>\n",
       "      <td>1</td>\n",
       "      <td>Total, all countries or areas</td>\n",
       "      <td>2018</td>\n",
       "      <td>GDP in current prices (millions of US dollars)</td>\n",
       "      <td>8.569332e+07</td>\n",
       "      <td>NaN</td>\n",
       "      <td>United Nations Statistics Division, New York, ...</td>\n",
       "    </tr>\n",
       "    <tr>\n",
       "      <th>7</th>\n",
       "      <td>1</td>\n",
       "      <td>Total, all countries or areas</td>\n",
       "      <td>1985</td>\n",
       "      <td>GDP per capita (US dollars)</td>\n",
       "      <td>2.787143e+03</td>\n",
       "      <td>NaN</td>\n",
       "      <td>United Nations Statistics Division, New York, ...</td>\n",
       "    </tr>\n",
       "    <tr>\n",
       "      <th>8</th>\n",
       "      <td>1</td>\n",
       "      <td>Total, all countries or areas</td>\n",
       "      <td>1995</td>\n",
       "      <td>GDP per capita (US dollars)</td>\n",
       "      <td>5.420225e+03</td>\n",
       "      <td>NaN</td>\n",
       "      <td>United Nations Statistics Division, New York, ...</td>\n",
       "    </tr>\n",
       "    <tr>\n",
       "      <th>9</th>\n",
       "      <td>1</td>\n",
       "      <td>Total, all countries or areas</td>\n",
       "      <td>2005</td>\n",
       "      <td>GDP per capita (US dollars)</td>\n",
       "      <td>7.278754e+03</td>\n",
       "      <td>NaN</td>\n",
       "      <td>United Nations Statistics Division, New York, ...</td>\n",
       "    </tr>\n",
       "  </tbody>\n",
       "</table>\n",
       "</div>"
      ],
      "text/plain": [
       "   Region/Country/Area                     Unnamed: 1  Year  \\\n",
       "0                    1  Total, all countries or areas  1985   \n",
       "1                    1  Total, all countries or areas  1995   \n",
       "2                    1  Total, all countries or areas  2005   \n",
       "3                    1  Total, all countries or areas  2010   \n",
       "4                    1  Total, all countries or areas  2015   \n",
       "5                    1  Total, all countries or areas  2017   \n",
       "6                    1  Total, all countries or areas  2018   \n",
       "7                    1  Total, all countries or areas  1985   \n",
       "8                    1  Total, all countries or areas  1995   \n",
       "9                    1  Total, all countries or areas  2005   \n",
       "\n",
       "                                           Series         Value Footnotes  \\\n",
       "0  GDP in current prices (millions of US dollars)  1.356724e+07       NaN   \n",
       "1  GDP in current prices (millions of US dollars)  3.112827e+07       NaN   \n",
       "2  GDP in current prices (millions of US dollars)  4.760504e+07       NaN   \n",
       "3  GDP in current prices (millions of US dollars)  6.623183e+07       NaN   \n",
       "4  GDP in current prices (millions of US dollars)  7.488265e+07       NaN   \n",
       "5  GDP in current prices (millions of US dollars)  8.078920e+07       NaN   \n",
       "6  GDP in current prices (millions of US dollars)  8.569332e+07       NaN   \n",
       "7                     GDP per capita (US dollars)  2.787143e+03       NaN   \n",
       "8                     GDP per capita (US dollars)  5.420225e+03       NaN   \n",
       "9                     GDP per capita (US dollars)  7.278754e+03       NaN   \n",
       "\n",
       "                                              Source  \n",
       "0  United Nations Statistics Division, New York, ...  \n",
       "1  United Nations Statistics Division, New York, ...  \n",
       "2  United Nations Statistics Division, New York, ...  \n",
       "3  United Nations Statistics Division, New York, ...  \n",
       "4  United Nations Statistics Division, New York, ...  \n",
       "5  United Nations Statistics Division, New York, ...  \n",
       "6  United Nations Statistics Division, New York, ...  \n",
       "7  United Nations Statistics Division, New York, ...  \n",
       "8  United Nations Statistics Division, New York, ...  \n",
       "9  United Nations Statistics Division, New York, ...  "
      ]
     },
     "execution_count": 150,
     "metadata": {},
     "output_type": "execute_result"
    }
   ],
   "source": [
    "#Examine the data and undesrtand the data\n",
    "GDP_data.head(10)"
   ]
  },
  {
   "cell_type": "code",
   "execution_count": 151,
   "id": "08a8c8ad",
   "metadata": {
    "scrolled": true
   },
   "outputs": [
    {
     "data": {
      "text/html": [
       "<div>\n",
       "<style scoped>\n",
       "    .dataframe tbody tr th:only-of-type {\n",
       "        vertical-align: middle;\n",
       "    }\n",
       "\n",
       "    .dataframe tbody tr th {\n",
       "        vertical-align: top;\n",
       "    }\n",
       "\n",
       "    .dataframe thead th {\n",
       "        text-align: right;\n",
       "    }\n",
       "</style>\n",
       "<table border=\"1\" class=\"dataframe\">\n",
       "  <thead>\n",
       "    <tr style=\"text-align: right;\">\n",
       "      <th></th>\n",
       "      <th>Region/Country/Area</th>\n",
       "      <th>Unnamed: 1</th>\n",
       "      <th>Year</th>\n",
       "      <th>Series</th>\n",
       "      <th>Value</th>\n",
       "      <th>Footnotes</th>\n",
       "      <th>Source</th>\n",
       "    </tr>\n",
       "  </thead>\n",
       "  <tbody>\n",
       "    <tr>\n",
       "      <th>6634</th>\n",
       "      <td>716</td>\n",
       "      <td>Zimbabwe</td>\n",
       "      <td>2015</td>\n",
       "      <td>GDP in constant 2010 prices (millions of US do...</td>\n",
       "      <td>19963.1206</td>\n",
       "      <td>NaN</td>\n",
       "      <td>United Nations Statistics Division, New York, ...</td>\n",
       "    </tr>\n",
       "    <tr>\n",
       "      <th>6635</th>\n",
       "      <td>716</td>\n",
       "      <td>Zimbabwe</td>\n",
       "      <td>2017</td>\n",
       "      <td>GDP in constant 2010 prices (millions of US do...</td>\n",
       "      <td>21060.1861</td>\n",
       "      <td>NaN</td>\n",
       "      <td>United Nations Statistics Division, New York, ...</td>\n",
       "    </tr>\n",
       "    <tr>\n",
       "      <th>6636</th>\n",
       "      <td>716</td>\n",
       "      <td>Zimbabwe</td>\n",
       "      <td>2018</td>\n",
       "      <td>GDP in constant 2010 prices (millions of US do...</td>\n",
       "      <td>22077.3243</td>\n",
       "      <td>NaN</td>\n",
       "      <td>United Nations Statistics Division, New York, ...</td>\n",
       "    </tr>\n",
       "    <tr>\n",
       "      <th>6637</th>\n",
       "      <td>716</td>\n",
       "      <td>Zimbabwe</td>\n",
       "      <td>1985</td>\n",
       "      <td>GDP real rates of growth (percent)</td>\n",
       "      <td>6.9444</td>\n",
       "      <td>NaN</td>\n",
       "      <td>United Nations Statistics Division, New York, ...</td>\n",
       "    </tr>\n",
       "    <tr>\n",
       "      <th>6638</th>\n",
       "      <td>716</td>\n",
       "      <td>Zimbabwe</td>\n",
       "      <td>1995</td>\n",
       "      <td>GDP real rates of growth (percent)</td>\n",
       "      <td>0.1624</td>\n",
       "      <td>NaN</td>\n",
       "      <td>United Nations Statistics Division, New York, ...</td>\n",
       "    </tr>\n",
       "    <tr>\n",
       "      <th>6639</th>\n",
       "      <td>716</td>\n",
       "      <td>Zimbabwe</td>\n",
       "      <td>2005</td>\n",
       "      <td>GDP real rates of growth (percent)</td>\n",
       "      <td>-4.0631</td>\n",
       "      <td>NaN</td>\n",
       "      <td>United Nations Statistics Division, New York, ...</td>\n",
       "    </tr>\n",
       "    <tr>\n",
       "      <th>6640</th>\n",
       "      <td>716</td>\n",
       "      <td>Zimbabwe</td>\n",
       "      <td>2010</td>\n",
       "      <td>GDP real rates of growth (percent)</td>\n",
       "      <td>19.6753</td>\n",
       "      <td>NaN</td>\n",
       "      <td>United Nations Statistics Division, New York, ...</td>\n",
       "    </tr>\n",
       "    <tr>\n",
       "      <th>6641</th>\n",
       "      <td>716</td>\n",
       "      <td>Zimbabwe</td>\n",
       "      <td>2015</td>\n",
       "      <td>GDP real rates of growth (percent)</td>\n",
       "      <td>1.7799</td>\n",
       "      <td>NaN</td>\n",
       "      <td>United Nations Statistics Division, New York, ...</td>\n",
       "    </tr>\n",
       "    <tr>\n",
       "      <th>6642</th>\n",
       "      <td>716</td>\n",
       "      <td>Zimbabwe</td>\n",
       "      <td>2017</td>\n",
       "      <td>GDP real rates of growth (percent)</td>\n",
       "      <td>4.7040</td>\n",
       "      <td>NaN</td>\n",
       "      <td>United Nations Statistics Division, New York, ...</td>\n",
       "    </tr>\n",
       "    <tr>\n",
       "      <th>6643</th>\n",
       "      <td>716</td>\n",
       "      <td>Zimbabwe</td>\n",
       "      <td>2018</td>\n",
       "      <td>GDP real rates of growth (percent)</td>\n",
       "      <td>4.8297</td>\n",
       "      <td>NaN</td>\n",
       "      <td>United Nations Statistics Division, New York, ...</td>\n",
       "    </tr>\n",
       "  </tbody>\n",
       "</table>\n",
       "</div>"
      ],
      "text/plain": [
       "      Region/Country/Area Unnamed: 1  Year  \\\n",
       "6634                  716   Zimbabwe  2015   \n",
       "6635                  716   Zimbabwe  2017   \n",
       "6636                  716   Zimbabwe  2018   \n",
       "6637                  716   Zimbabwe  1985   \n",
       "6638                  716   Zimbabwe  1995   \n",
       "6639                  716   Zimbabwe  2005   \n",
       "6640                  716   Zimbabwe  2010   \n",
       "6641                  716   Zimbabwe  2015   \n",
       "6642                  716   Zimbabwe  2017   \n",
       "6643                  716   Zimbabwe  2018   \n",
       "\n",
       "                                                 Series       Value Footnotes  \\\n",
       "6634  GDP in constant 2010 prices (millions of US do...  19963.1206       NaN   \n",
       "6635  GDP in constant 2010 prices (millions of US do...  21060.1861       NaN   \n",
       "6636  GDP in constant 2010 prices (millions of US do...  22077.3243       NaN   \n",
       "6637                 GDP real rates of growth (percent)      6.9444       NaN   \n",
       "6638                 GDP real rates of growth (percent)      0.1624       NaN   \n",
       "6639                 GDP real rates of growth (percent)     -4.0631       NaN   \n",
       "6640                 GDP real rates of growth (percent)     19.6753       NaN   \n",
       "6641                 GDP real rates of growth (percent)      1.7799       NaN   \n",
       "6642                 GDP real rates of growth (percent)      4.7040       NaN   \n",
       "6643                 GDP real rates of growth (percent)      4.8297       NaN   \n",
       "\n",
       "                                                 Source  \n",
       "6634  United Nations Statistics Division, New York, ...  \n",
       "6635  United Nations Statistics Division, New York, ...  \n",
       "6636  United Nations Statistics Division, New York, ...  \n",
       "6637  United Nations Statistics Division, New York, ...  \n",
       "6638  United Nations Statistics Division, New York, ...  \n",
       "6639  United Nations Statistics Division, New York, ...  \n",
       "6640  United Nations Statistics Division, New York, ...  \n",
       "6641  United Nations Statistics Division, New York, ...  \n",
       "6642  United Nations Statistics Division, New York, ...  \n",
       "6643  United Nations Statistics Division, New York, ...  "
      ]
     },
     "execution_count": 151,
     "metadata": {},
     "output_type": "execute_result"
    }
   ],
   "source": [
    "GDP_data.tail(10)"
   ]
  },
  {
   "cell_type": "code",
   "execution_count": 152,
   "id": "d737ca48",
   "metadata": {
    "scrolled": true
   },
   "outputs": [
    {
     "data": {
      "text/html": [
       "<div>\n",
       "<style scoped>\n",
       "    .dataframe tbody tr th:only-of-type {\n",
       "        vertical-align: middle;\n",
       "    }\n",
       "\n",
       "    .dataframe tbody tr th {\n",
       "        vertical-align: top;\n",
       "    }\n",
       "\n",
       "    .dataframe thead th {\n",
       "        text-align: right;\n",
       "    }\n",
       "</style>\n",
       "<table border=\"1\" class=\"dataframe\">\n",
       "  <thead>\n",
       "    <tr style=\"text-align: right;\">\n",
       "      <th></th>\n",
       "      <th>Region/Country/Area</th>\n",
       "      <th>Unnamed: 1</th>\n",
       "      <th>Year</th>\n",
       "      <th>Series</th>\n",
       "      <th>Value</th>\n",
       "      <th>Footnotes</th>\n",
       "      <th>Source</th>\n",
       "    </tr>\n",
       "  </thead>\n",
       "  <tbody>\n",
       "    <tr>\n",
       "      <th>4328</th>\n",
       "      <td>500</td>\n",
       "      <td>Montserrat</td>\n",
       "      <td>2010</td>\n",
       "      <td>GDP per capita (US dollars)</td>\n",
       "      <td>11331.1107</td>\n",
       "      <td>NaN</td>\n",
       "      <td>United Nations Statistics Division, New York, ...</td>\n",
       "    </tr>\n",
       "    <tr>\n",
       "      <th>6160</th>\n",
       "      <td>795</td>\n",
       "      <td>Turkmenistan</td>\n",
       "      <td>1995</td>\n",
       "      <td>GDP in current prices (millions of US dollars)</td>\n",
       "      <td>2190.0237</td>\n",
       "      <td>NaN</td>\n",
       "      <td>United Nations Statistics Division, New York, ...</td>\n",
       "    </tr>\n",
       "    <tr>\n",
       "      <th>1112</th>\n",
       "      <td>36</td>\n",
       "      <td>Australia</td>\n",
       "      <td>1985</td>\n",
       "      <td>GDP in current prices (millions of US dollars)</td>\n",
       "      <td>182212.3830</td>\n",
       "      <td>NaN</td>\n",
       "      <td>United Nations Statistics Division, New York, ...</td>\n",
       "    </tr>\n",
       "    <tr>\n",
       "      <th>3967</th>\n",
       "      <td>454</td>\n",
       "      <td>Malawi</td>\n",
       "      <td>2005</td>\n",
       "      <td>GDP per capita (US dollars)</td>\n",
       "      <td>289.5536</td>\n",
       "      <td>NaN</td>\n",
       "      <td>United Nations Statistics Division, New York, ...</td>\n",
       "    </tr>\n",
       "    <tr>\n",
       "      <th>2998</th>\n",
       "      <td>304</td>\n",
       "      <td>Greenland</td>\n",
       "      <td>2018</td>\n",
       "      <td>GDP real rates of growth (percent)</td>\n",
       "      <td>3.2180</td>\n",
       "      <td>NaN</td>\n",
       "      <td>United Nations Statistics Division, New York, ...</td>\n",
       "    </tr>\n",
       "    <tr>\n",
       "      <th>...</th>\n",
       "      <td>...</td>\n",
       "      <td>...</td>\n",
       "      <td>...</td>\n",
       "      <td>...</td>\n",
       "      <td>...</td>\n",
       "      <td>...</td>\n",
       "      <td>...</td>\n",
       "    </tr>\n",
       "    <tr>\n",
       "      <th>5055</th>\n",
       "      <td>630</td>\n",
       "      <td>Puerto Rico</td>\n",
       "      <td>2015</td>\n",
       "      <td>GDP real rates of growth (percent)</td>\n",
       "      <td>-1.0494</td>\n",
       "      <td>NaN</td>\n",
       "      <td>United Nations Statistics Division, New York, ...</td>\n",
       "    </tr>\n",
       "    <tr>\n",
       "      <th>2146</th>\n",
       "      <td>188</td>\n",
       "      <td>Costa Rica</td>\n",
       "      <td>2010</td>\n",
       "      <td>GDP per capita (US dollars)</td>\n",
       "      <td>8141.9178</td>\n",
       "      <td>NaN</td>\n",
       "      <td>United Nations Statistics Division, New York, ...</td>\n",
       "    </tr>\n",
       "    <tr>\n",
       "      <th>1408</th>\n",
       "      <td>204</td>\n",
       "      <td>Benin</td>\n",
       "      <td>2010</td>\n",
       "      <td>GDP real rates of growth (percent)</td>\n",
       "      <td>2.1141</td>\n",
       "      <td>NaN</td>\n",
       "      <td>United Nations Statistics Division, New York, ...</td>\n",
       "    </tr>\n",
       "    <tr>\n",
       "      <th>4560</th>\n",
       "      <td>540</td>\n",
       "      <td>New Caledonia</td>\n",
       "      <td>2005</td>\n",
       "      <td>GDP in current prices (millions of US dollars)</td>\n",
       "      <td>6236.1470</td>\n",
       "      <td>NaN</td>\n",
       "      <td>United Nations Statistics Division, New York, ...</td>\n",
       "    </tr>\n",
       "    <tr>\n",
       "      <th>6082</th>\n",
       "      <td>780</td>\n",
       "      <td>Trinidad and Tobago</td>\n",
       "      <td>2018</td>\n",
       "      <td>GDP in current prices (millions of US dollars)</td>\n",
       "      <td>23808.4829</td>\n",
       "      <td>NaN</td>\n",
       "      <td>United Nations Statistics Division, New York, ...</td>\n",
       "    </tr>\n",
       "  </tbody>\n",
       "</table>\n",
       "<p>100 rows × 7 columns</p>\n",
       "</div>"
      ],
      "text/plain": [
       "      Region/Country/Area           Unnamed: 1  Year  \\\n",
       "4328                  500           Montserrat  2010   \n",
       "6160                  795         Turkmenistan  1995   \n",
       "1112                   36            Australia  1985   \n",
       "3967                  454               Malawi  2005   \n",
       "2998                  304            Greenland  2018   \n",
       "...                   ...                  ...   ...   \n",
       "5055                  630          Puerto Rico  2015   \n",
       "2146                  188           Costa Rica  2010   \n",
       "1408                  204                Benin  2010   \n",
       "4560                  540        New Caledonia  2005   \n",
       "6082                  780  Trinidad and Tobago  2018   \n",
       "\n",
       "                                              Series        Value Footnotes  \\\n",
       "4328                     GDP per capita (US dollars)   11331.1107       NaN   \n",
       "6160  GDP in current prices (millions of US dollars)    2190.0237       NaN   \n",
       "1112  GDP in current prices (millions of US dollars)  182212.3830       NaN   \n",
       "3967                     GDP per capita (US dollars)     289.5536       NaN   \n",
       "2998              GDP real rates of growth (percent)       3.2180       NaN   \n",
       "...                                              ...          ...       ...   \n",
       "5055              GDP real rates of growth (percent)      -1.0494       NaN   \n",
       "2146                     GDP per capita (US dollars)    8141.9178       NaN   \n",
       "1408              GDP real rates of growth (percent)       2.1141       NaN   \n",
       "4560  GDP in current prices (millions of US dollars)    6236.1470       NaN   \n",
       "6082  GDP in current prices (millions of US dollars)   23808.4829       NaN   \n",
       "\n",
       "                                                 Source  \n",
       "4328  United Nations Statistics Division, New York, ...  \n",
       "6160  United Nations Statistics Division, New York, ...  \n",
       "1112  United Nations Statistics Division, New York, ...  \n",
       "3967  United Nations Statistics Division, New York, ...  \n",
       "2998  United Nations Statistics Division, New York, ...  \n",
       "...                                                 ...  \n",
       "5055  United Nations Statistics Division, New York, ...  \n",
       "2146  United Nations Statistics Division, New York, ...  \n",
       "1408  United Nations Statistics Division, New York, ...  \n",
       "4560  United Nations Statistics Division, New York, ...  \n",
       "6082  United Nations Statistics Division, New York, ...  \n",
       "\n",
       "[100 rows x 7 columns]"
      ]
     },
     "execution_count": 152,
     "metadata": {},
     "output_type": "execute_result"
    }
   ],
   "source": [
    "GDP_data.sample(100)"
   ]
  },
  {
   "cell_type": "code",
   "execution_count": 153,
   "id": "03b13e11",
   "metadata": {},
   "outputs": [
    {
     "data": {
      "text/html": [
       "<div>\n",
       "<style scoped>\n",
       "    .dataframe tbody tr th:only-of-type {\n",
       "        vertical-align: middle;\n",
       "    }\n",
       "\n",
       "    .dataframe tbody tr th {\n",
       "        vertical-align: top;\n",
       "    }\n",
       "\n",
       "    .dataframe thead th {\n",
       "        text-align: right;\n",
       "    }\n",
       "</style>\n",
       "<table border=\"1\" class=\"dataframe\">\n",
       "  <thead>\n",
       "    <tr style=\"text-align: right;\">\n",
       "      <th></th>\n",
       "      <th>Region/Country/Area</th>\n",
       "      <th>Year</th>\n",
       "      <th>Value</th>\n",
       "    </tr>\n",
       "  </thead>\n",
       "  <tbody>\n",
       "    <tr>\n",
       "      <th>count</th>\n",
       "      <td>100.000000</td>\n",
       "      <td>100.000000</td>\n",
       "      <td>1.000000e+02</td>\n",
       "    </tr>\n",
       "    <tr>\n",
       "      <th>mean</th>\n",
       "      <td>444.970000</td>\n",
       "      <td>2006.200000</td>\n",
       "      <td>3.561526e+05</td>\n",
       "    </tr>\n",
       "    <tr>\n",
       "      <th>std</th>\n",
       "      <td>267.512577</td>\n",
       "      <td>11.536503</td>\n",
       "      <td>1.806919e+06</td>\n",
       "    </tr>\n",
       "    <tr>\n",
       "      <th>min</th>\n",
       "      <td>4.000000</td>\n",
       "      <td>1985.000000</td>\n",
       "      <td>-1.002500e+01</td>\n",
       "    </tr>\n",
       "    <tr>\n",
       "      <th>25%</th>\n",
       "      <td>205.000000</td>\n",
       "      <td>1995.000000</td>\n",
       "      <td>2.711994e+02</td>\n",
       "    </tr>\n",
       "    <tr>\n",
       "      <th>50%</th>\n",
       "      <td>454.000000</td>\n",
       "      <td>2010.000000</td>\n",
       "      <td>6.706064e+03</td>\n",
       "    </tr>\n",
       "    <tr>\n",
       "      <th>75%</th>\n",
       "      <td>688.000000</td>\n",
       "      <td>2017.000000</td>\n",
       "      <td>4.225116e+04</td>\n",
       "    </tr>\n",
       "    <tr>\n",
       "      <th>max</th>\n",
       "      <td>894.000000</td>\n",
       "      <td>2018.000000</td>\n",
       "      <td>1.661767e+07</td>\n",
       "    </tr>\n",
       "  </tbody>\n",
       "</table>\n",
       "</div>"
      ],
      "text/plain": [
       "       Region/Country/Area         Year         Value\n",
       "count           100.000000   100.000000  1.000000e+02\n",
       "mean            444.970000  2006.200000  3.561526e+05\n",
       "std             267.512577    11.536503  1.806919e+06\n",
       "min               4.000000  1985.000000 -1.002500e+01\n",
       "25%             205.000000  1995.000000  2.711994e+02\n",
       "50%             454.000000  2010.000000  6.706064e+03\n",
       "75%             688.000000  2017.000000  4.225116e+04\n",
       "max             894.000000  2018.000000  1.661767e+07"
      ]
     },
     "execution_count": 153,
     "metadata": {},
     "output_type": "execute_result"
    }
   ],
   "source": [
    "# summary statistic of sample of our data\n",
    "GDP_data.sample(100).describe()"
   ]
  },
  {
   "cell_type": "code",
   "execution_count": 154,
   "id": "e716760b",
   "metadata": {},
   "outputs": [
    {
     "data": {
      "text/plain": [
       "(6644, 7)"
      ]
     },
     "execution_count": 154,
     "metadata": {},
     "output_type": "execute_result"
    }
   ],
   "source": [
    "#check size of data\n",
    "GDP_data.shape\n"
   ]
  },
  {
   "cell_type": "code",
   "execution_count": 155,
   "id": "ffa8ab5b",
   "metadata": {
    "scrolled": true
   },
   "outputs": [
    {
     "name": "stdout",
     "output_type": "stream",
     "text": [
      "<class 'pandas.core.frame.DataFrame'>\n",
      "RangeIndex: 6644 entries, 0 to 6643\n",
      "Data columns (total 7 columns):\n",
      " #   Column               Non-Null Count  Dtype  \n",
      "---  ------               --------------  -----  \n",
      " 0   Region/Country/Area  6644 non-null   int64  \n",
      " 1   Unnamed: 1           6644 non-null   object \n",
      " 2   Year                 6644 non-null   int64  \n",
      " 3   Series               6644 non-null   object \n",
      " 4   Value                6644 non-null   float64\n",
      " 5   Footnotes            176 non-null    object \n",
      " 6   Source               6644 non-null   object \n",
      "dtypes: float64(1), int64(2), object(4)\n",
      "memory usage: 363.5+ KB\n"
     ]
    }
   ],
   "source": [
    "#checking what type of data we have and see if columns have missing values\n",
    "GDP_data.info()"
   ]
  },
  {
   "cell_type": "code",
   "execution_count": 156,
   "id": "7d777267",
   "metadata": {},
   "outputs": [
    {
     "data": {
      "text/html": [
       "<div>\n",
       "<style scoped>\n",
       "    .dataframe tbody tr th:only-of-type {\n",
       "        vertical-align: middle;\n",
       "    }\n",
       "\n",
       "    .dataframe tbody tr th {\n",
       "        vertical-align: top;\n",
       "    }\n",
       "\n",
       "    .dataframe thead th {\n",
       "        text-align: right;\n",
       "    }\n",
       "</style>\n",
       "<table border=\"1\" class=\"dataframe\">\n",
       "  <thead>\n",
       "    <tr style=\"text-align: right;\">\n",
       "      <th></th>\n",
       "      <th>Region/Country/Area</th>\n",
       "      <th>Year</th>\n",
       "      <th>Value</th>\n",
       "    </tr>\n",
       "  </thead>\n",
       "  <tbody>\n",
       "    <tr>\n",
       "      <th>count</th>\n",
       "      <td>6644.000000</td>\n",
       "      <td>6644.000000</td>\n",
       "      <td>6.644000e+03</td>\n",
       "    </tr>\n",
       "    <tr>\n",
       "      <th>mean</th>\n",
       "      <td>386.082932</td>\n",
       "      <td>2006.860325</td>\n",
       "      <td>5.130841e+05</td>\n",
       "    </tr>\n",
       "    <tr>\n",
       "      <th>std</th>\n",
       "      <td>264.417611</td>\n",
       "      <td>11.197933</td>\n",
       "      <td>3.589345e+06</td>\n",
       "    </tr>\n",
       "    <tr>\n",
       "      <th>min</th>\n",
       "      <td>1.000000</td>\n",
       "      <td>1985.000000</td>\n",
       "      <td>-4.549850e+01</td>\n",
       "    </tr>\n",
       "    <tr>\n",
       "      <th>25%</th>\n",
       "      <td>145.000000</td>\n",
       "      <td>1995.000000</td>\n",
       "      <td>2.893110e+01</td>\n",
       "    </tr>\n",
       "    <tr>\n",
       "      <th>50%</th>\n",
       "      <td>388.000000</td>\n",
       "      <td>2010.000000</td>\n",
       "      <td>4.155437e+03</td>\n",
       "    </tr>\n",
       "    <tr>\n",
       "      <th>75%</th>\n",
       "      <td>608.000000</td>\n",
       "      <td>2017.000000</td>\n",
       "      <td>3.717305e+04</td>\n",
       "    </tr>\n",
       "    <tr>\n",
       "      <th>max</th>\n",
       "      <td>894.000000</td>\n",
       "      <td>2018.000000</td>\n",
       "      <td>8.569332e+07</td>\n",
       "    </tr>\n",
       "  </tbody>\n",
       "</table>\n",
       "</div>"
      ],
      "text/plain": [
       "       Region/Country/Area         Year         Value\n",
       "count          6644.000000  6644.000000  6.644000e+03\n",
       "mean            386.082932  2006.860325  5.130841e+05\n",
       "std             264.417611    11.197933  3.589345e+06\n",
       "min               1.000000  1985.000000 -4.549850e+01\n",
       "25%             145.000000  1995.000000  2.893110e+01\n",
       "50%             388.000000  2010.000000  4.155437e+03\n",
       "75%             608.000000  2017.000000  3.717305e+04\n",
       "max             894.000000  2018.000000  8.569332e+07"
      ]
     },
     "execution_count": 156,
     "metadata": {},
     "output_type": "execute_result"
    }
   ],
   "source": [
    "#statistic summary of  all of data\n",
    "GDP_data.describe()"
   ]
  },
  {
   "cell_type": "code",
   "execution_count": 157,
   "id": "f16a5d46",
   "metadata": {},
   "outputs": [
    {
     "data": {
      "text/html": [
       "<div>\n",
       "<style scoped>\n",
       "    .dataframe tbody tr th:only-of-type {\n",
       "        vertical-align: middle;\n",
       "    }\n",
       "\n",
       "    .dataframe tbody tr th {\n",
       "        vertical-align: top;\n",
       "    }\n",
       "\n",
       "    .dataframe thead th {\n",
       "        text-align: right;\n",
       "    }\n",
       "</style>\n",
       "<table border=\"1\" class=\"dataframe\">\n",
       "  <thead>\n",
       "    <tr style=\"text-align: right;\">\n",
       "      <th></th>\n",
       "      <th>Region/Country/Area</th>\n",
       "      <th>Unnamed: 1</th>\n",
       "      <th>Year</th>\n",
       "      <th>Series</th>\n",
       "      <th>Value</th>\n",
       "      <th>Footnotes</th>\n",
       "      <th>Source</th>\n",
       "    </tr>\n",
       "  </thead>\n",
       "  <tbody>\n",
       "    <tr>\n",
       "      <th>0</th>\n",
       "      <td>False</td>\n",
       "      <td>False</td>\n",
       "      <td>False</td>\n",
       "      <td>False</td>\n",
       "      <td>False</td>\n",
       "      <td>True</td>\n",
       "      <td>False</td>\n",
       "    </tr>\n",
       "    <tr>\n",
       "      <th>1</th>\n",
       "      <td>False</td>\n",
       "      <td>False</td>\n",
       "      <td>False</td>\n",
       "      <td>False</td>\n",
       "      <td>False</td>\n",
       "      <td>True</td>\n",
       "      <td>False</td>\n",
       "    </tr>\n",
       "    <tr>\n",
       "      <th>2</th>\n",
       "      <td>False</td>\n",
       "      <td>False</td>\n",
       "      <td>False</td>\n",
       "      <td>False</td>\n",
       "      <td>False</td>\n",
       "      <td>True</td>\n",
       "      <td>False</td>\n",
       "    </tr>\n",
       "    <tr>\n",
       "      <th>3</th>\n",
       "      <td>False</td>\n",
       "      <td>False</td>\n",
       "      <td>False</td>\n",
       "      <td>False</td>\n",
       "      <td>False</td>\n",
       "      <td>True</td>\n",
       "      <td>False</td>\n",
       "    </tr>\n",
       "    <tr>\n",
       "      <th>4</th>\n",
       "      <td>False</td>\n",
       "      <td>False</td>\n",
       "      <td>False</td>\n",
       "      <td>False</td>\n",
       "      <td>False</td>\n",
       "      <td>True</td>\n",
       "      <td>False</td>\n",
       "    </tr>\n",
       "    <tr>\n",
       "      <th>...</th>\n",
       "      <td>...</td>\n",
       "      <td>...</td>\n",
       "      <td>...</td>\n",
       "      <td>...</td>\n",
       "      <td>...</td>\n",
       "      <td>...</td>\n",
       "      <td>...</td>\n",
       "    </tr>\n",
       "    <tr>\n",
       "      <th>6639</th>\n",
       "      <td>False</td>\n",
       "      <td>False</td>\n",
       "      <td>False</td>\n",
       "      <td>False</td>\n",
       "      <td>False</td>\n",
       "      <td>True</td>\n",
       "      <td>False</td>\n",
       "    </tr>\n",
       "    <tr>\n",
       "      <th>6640</th>\n",
       "      <td>False</td>\n",
       "      <td>False</td>\n",
       "      <td>False</td>\n",
       "      <td>False</td>\n",
       "      <td>False</td>\n",
       "      <td>True</td>\n",
       "      <td>False</td>\n",
       "    </tr>\n",
       "    <tr>\n",
       "      <th>6641</th>\n",
       "      <td>False</td>\n",
       "      <td>False</td>\n",
       "      <td>False</td>\n",
       "      <td>False</td>\n",
       "      <td>False</td>\n",
       "      <td>True</td>\n",
       "      <td>False</td>\n",
       "    </tr>\n",
       "    <tr>\n",
       "      <th>6642</th>\n",
       "      <td>False</td>\n",
       "      <td>False</td>\n",
       "      <td>False</td>\n",
       "      <td>False</td>\n",
       "      <td>False</td>\n",
       "      <td>True</td>\n",
       "      <td>False</td>\n",
       "    </tr>\n",
       "    <tr>\n",
       "      <th>6643</th>\n",
       "      <td>False</td>\n",
       "      <td>False</td>\n",
       "      <td>False</td>\n",
       "      <td>False</td>\n",
       "      <td>False</td>\n",
       "      <td>True</td>\n",
       "      <td>False</td>\n",
       "    </tr>\n",
       "  </tbody>\n",
       "</table>\n",
       "<p>6644 rows × 7 columns</p>\n",
       "</div>"
      ],
      "text/plain": [
       "      Region/Country/Area  Unnamed: 1   Year  Series  Value  Footnotes  Source\n",
       "0                   False       False  False   False  False       True   False\n",
       "1                   False       False  False   False  False       True   False\n",
       "2                   False       False  False   False  False       True   False\n",
       "3                   False       False  False   False  False       True   False\n",
       "4                   False       False  False   False  False       True   False\n",
       "...                   ...         ...    ...     ...    ...        ...     ...\n",
       "6639                False       False  False   False  False       True   False\n",
       "6640                False       False  False   False  False       True   False\n",
       "6641                False       False  False   False  False       True   False\n",
       "6642                False       False  False   False  False       True   False\n",
       "6643                False       False  False   False  False       True   False\n",
       "\n",
       "[6644 rows x 7 columns]"
      ]
     },
     "execution_count": 157,
     "metadata": {},
     "output_type": "execute_result"
    }
   ],
   "source": [
    "#checking missing value in columns\n",
    "GDP_data.isnull()"
   ]
  },
  {
   "cell_type": "code",
   "execution_count": 158,
   "id": "80133270",
   "metadata": {},
   "outputs": [
    {
     "data": {
      "text/plain": [
       "<AxesSubplot:xlabel='Value'>"
      ]
     },
     "execution_count": 158,
     "metadata": {},
     "output_type": "execute_result"
    },
    {
     "data": {
      "image/png": "[encoded data removed]",
      "text/plain": [
       "<Figure size 432x288 with 1 Axes>"
      ]
     },
     "metadata": {
      "needs_background": "light"
     },
     "output_type": "display_data"
    }
   ],
   "source": [
    "#checking of outliers using box plot \n",
    "sns.boxplot(data=GDP_data,x=GDP_data['Value'])"
   ]
  },
  {
   "cell_type": "code",
   "execution_count": 159,
   "id": "cba12634",
   "metadata": {},
   "outputs": [
    {
     "data": {
      "text/plain": [
       "(5499, 7)"
      ]
     },
     "execution_count": 159,
     "metadata": {},
     "output_type": "execute_result"
    }
   ],
   "source": [
    "#handling outlier\n",
    "Quantile1=GDP_data['Value'].quantile(0.25)\n",
    "Quantile3=GDP_data['Value'].quantile(0.75)\n",
    "Inter_Quantile_Range=Quantile3-Quantile1\n",
    "Lower_Whisker =Quantile1 - 1.5*Inter_Quantile_Range\n",
    "Upper_Whisker = Quantile3 + 1.5*Inter_Quantile_Range\n",
    "#outlier is value below  lower_whisker or above upper_whisker\n",
    "#removing outlier from my data\n",
    "GDP_data=GDP_data[GDP_data['Value']<=Upper_Whisker]\n",
    "#check shape again of data after removing outlier\n",
    "GDP_data.shape\n",
    "\n",
    "\n"
   ]
  },
  {
   "cell_type": "code",
   "execution_count": 160,
   "id": "323a7a9a",
   "metadata": {},
   "outputs": [
    {
     "data": {
      "text/plain": [
       "<AxesSubplot:xlabel='Value'>"
      ]
     },
     "execution_count": 160,
     "metadata": {},
     "output_type": "execute_result"
    },
    {
     "data": {
      "image/png": "[encoded data removed]",
      "text/plain": [
       "<Figure size 432x288 with 1 Axes>"
      ]
     },
     "metadata": {
      "needs_background": "light"
     },
     "output_type": "display_data"
    }
   ],
   "source": [
    "# visualize data after removing outliers\n",
    "sns.boxplot(data=GDP_data,x=GDP_data['Value'])"
   ]
  },
  {
   "cell_type": "code",
   "execution_count": 161,
   "id": "90dac60f",
   "metadata": {
    "scrolled": true
   },
   "outputs": [
    {
     "data": {
      "text/html": [
       "<div>\n",
       "<style scoped>\n",
       "    .dataframe tbody tr th:only-of-type {\n",
       "        vertical-align: middle;\n",
       "    }\n",
       "\n",
       "    .dataframe tbody tr th {\n",
       "        vertical-align: top;\n",
       "    }\n",
       "\n",
       "    .dataframe thead th {\n",
       "        text-align: right;\n",
       "    }\n",
       "</style>\n",
       "<table border=\"1\" class=\"dataframe\">\n",
       "  <thead>\n",
       "    <tr style=\"text-align: right;\">\n",
       "      <th></th>\n",
       "      <th>Unnamed: 1</th>\n",
       "      <th>Year</th>\n",
       "      <th>Series</th>\n",
       "      <th>Value</th>\n",
       "    </tr>\n",
       "  </thead>\n",
       "  <tbody>\n",
       "    <tr>\n",
       "      <th>7</th>\n",
       "      <td>Total, all countries or areas</td>\n",
       "      <td>1985</td>\n",
       "      <td>GDP per capita (US dollars)</td>\n",
       "      <td>2787.1426</td>\n",
       "    </tr>\n",
       "    <tr>\n",
       "      <th>8</th>\n",
       "      <td>Total, all countries or areas</td>\n",
       "      <td>1995</td>\n",
       "      <td>GDP per capita (US dollars)</td>\n",
       "      <td>5420.2254</td>\n",
       "    </tr>\n",
       "    <tr>\n",
       "      <th>9</th>\n",
       "      <td>Total, all countries or areas</td>\n",
       "      <td>2005</td>\n",
       "      <td>GDP per capita (US dollars)</td>\n",
       "      <td>7278.7537</td>\n",
       "    </tr>\n",
       "    <tr>\n",
       "      <th>10</th>\n",
       "      <td>Total, all countries or areas</td>\n",
       "      <td>2010</td>\n",
       "      <td>GDP per capita (US dollars)</td>\n",
       "      <td>9522.7233</td>\n",
       "    </tr>\n",
       "    <tr>\n",
       "      <th>11</th>\n",
       "      <td>Total, all countries or areas</td>\n",
       "      <td>2015</td>\n",
       "      <td>GDP per capita (US dollars)</td>\n",
       "      <td>10149.4233</td>\n",
       "    </tr>\n",
       "  </tbody>\n",
       "</table>\n",
       "</div>"
      ],
      "text/plain": [
       "                       Unnamed: 1  Year                       Series  \\\n",
       "7   Total, all countries or areas  1985  GDP per capita (US dollars)   \n",
       "8   Total, all countries or areas  1995  GDP per capita (US dollars)   \n",
       "9   Total, all countries or areas  2005  GDP per capita (US dollars)   \n",
       "10  Total, all countries or areas  2010  GDP per capita (US dollars)   \n",
       "11  Total, all countries or areas  2015  GDP per capita (US dollars)   \n",
       "\n",
       "         Value  \n",
       "7    2787.1426  \n",
       "8    5420.2254  \n",
       "9    7278.7537  \n",
       "10   9522.7233  \n",
       "11  10149.4233  "
      ]
     },
     "execution_count": 161,
     "metadata": {},
     "output_type": "execute_result"
    }
   ],
   "source": [
    "#drop columns which add no more information in our analysis\n",
    "GDP_data = GDP_data.drop(['Region/Country/Area','Footnotes','Source'], axis = 1)\n",
    "#understand remaing data\n",
    "GDP_data.head()"
   ]
  },
  {
   "cell_type": "code",
   "execution_count": 162,
   "id": "8b23b79f",
   "metadata": {},
   "outputs": [
    {
     "data": {
      "text/html": [
       "<div>\n",
       "<style scoped>\n",
       "    .dataframe tbody tr th:only-of-type {\n",
       "        vertical-align: middle;\n",
       "    }\n",
       "\n",
       "    .dataframe tbody tr th {\n",
       "        vertical-align: top;\n",
       "    }\n",
       "\n",
       "    .dataframe thead th {\n",
       "        text-align: right;\n",
       "    }\n",
       "</style>\n",
       "<table border=\"1\" class=\"dataframe\">\n",
       "  <thead>\n",
       "    <tr style=\"text-align: right;\">\n",
       "      <th></th>\n",
       "      <th>Region/Country/Area</th>\n",
       "      <th>Year</th>\n",
       "      <th>Series</th>\n",
       "      <th>Value</th>\n",
       "    </tr>\n",
       "  </thead>\n",
       "  <tbody>\n",
       "    <tr>\n",
       "      <th>7</th>\n",
       "      <td>Total, all countries or areas</td>\n",
       "      <td>1985</td>\n",
       "      <td>GDP per capita (US dollars)</td>\n",
       "      <td>2787.1426</td>\n",
       "    </tr>\n",
       "    <tr>\n",
       "      <th>8</th>\n",
       "      <td>Total, all countries or areas</td>\n",
       "      <td>1995</td>\n",
       "      <td>GDP per capita (US dollars)</td>\n",
       "      <td>5420.2254</td>\n",
       "    </tr>\n",
       "    <tr>\n",
       "      <th>9</th>\n",
       "      <td>Total, all countries or areas</td>\n",
       "      <td>2005</td>\n",
       "      <td>GDP per capita (US dollars)</td>\n",
       "      <td>7278.7537</td>\n",
       "    </tr>\n",
       "    <tr>\n",
       "      <th>10</th>\n",
       "      <td>Total, all countries or areas</td>\n",
       "      <td>2010</td>\n",
       "      <td>GDP per capita (US dollars)</td>\n",
       "      <td>9522.7233</td>\n",
       "    </tr>\n",
       "    <tr>\n",
       "      <th>11</th>\n",
       "      <td>Total, all countries or areas</td>\n",
       "      <td>2015</td>\n",
       "      <td>GDP per capita (US dollars)</td>\n",
       "      <td>10149.4233</td>\n",
       "    </tr>\n",
       "  </tbody>\n",
       "</table>\n",
       "</div>"
      ],
      "text/plain": [
       "              Region/Country/Area  Year                       Series  \\\n",
       "7   Total, all countries or areas  1985  GDP per capita (US dollars)   \n",
       "8   Total, all countries or areas  1995  GDP per capita (US dollars)   \n",
       "9   Total, all countries or areas  2005  GDP per capita (US dollars)   \n",
       "10  Total, all countries or areas  2010  GDP per capita (US dollars)   \n",
       "11  Total, all countries or areas  2015  GDP per capita (US dollars)   \n",
       "\n",
       "         Value  \n",
       "7    2787.1426  \n",
       "8    5420.2254  \n",
       "9    7278.7537  \n",
       "10   9522.7233  \n",
       "11  10149.4233  "
      ]
     },
     "execution_count": 162,
     "metadata": {},
     "output_type": "execute_result"
    }
   ],
   "source": [
    "# giving meaning name to column\n",
    "GDP_data = GDP_data.rename(columns = {'Unnamed: 1': 'Region/Country/Area'})\n",
    "GDP_data.head()"
   ]
  },
  {
   "cell_type": "code",
   "execution_count": 163,
   "id": "7830e05c",
   "metadata": {},
   "outputs": [
    {
     "data": {
      "text/html": [
       "<div>\n",
       "<style scoped>\n",
       "    .dataframe tbody tr th:only-of-type {\n",
       "        vertical-align: middle;\n",
       "    }\n",
       "\n",
       "    .dataframe tbody tr th {\n",
       "        vertical-align: top;\n",
       "    }\n",
       "\n",
       "    .dataframe thead th {\n",
       "        text-align: right;\n",
       "    }\n",
       "</style>\n",
       "<table border=\"1\" class=\"dataframe\">\n",
       "  <thead>\n",
       "    <tr style=\"text-align: right;\">\n",
       "      <th></th>\n",
       "      <th>Region/Country/Area</th>\n",
       "      <th>Year</th>\n",
       "      <th>Series</th>\n",
       "      <th>Value</th>\n",
       "    </tr>\n",
       "  </thead>\n",
       "  <tbody>\n",
       "    <tr>\n",
       "      <th>1688</th>\n",
       "      <td>Burundi</td>\n",
       "      <td>1985</td>\n",
       "      <td>GDP in current prices (millions of US dollars)</td>\n",
       "      <td>1171.1502</td>\n",
       "    </tr>\n",
       "    <tr>\n",
       "      <th>1689</th>\n",
       "      <td>Burundi</td>\n",
       "      <td>1995</td>\n",
       "      <td>GDP in current prices (millions of US dollars)</td>\n",
       "      <td>1000.4304</td>\n",
       "    </tr>\n",
       "    <tr>\n",
       "      <th>1690</th>\n",
       "      <td>Burundi</td>\n",
       "      <td>2005</td>\n",
       "      <td>GDP in current prices (millions of US dollars)</td>\n",
       "      <td>1117.1094</td>\n",
       "    </tr>\n",
       "    <tr>\n",
       "      <th>1691</th>\n",
       "      <td>Burundi</td>\n",
       "      <td>2010</td>\n",
       "      <td>GDP in current prices (millions of US dollars)</td>\n",
       "      <td>2032.1376</td>\n",
       "    </tr>\n",
       "    <tr>\n",
       "      <th>1692</th>\n",
       "      <td>Burundi</td>\n",
       "      <td>2015</td>\n",
       "      <td>GDP in current prices (millions of US dollars)</td>\n",
       "      <td>2810.5316</td>\n",
       "    </tr>\n",
       "  </tbody>\n",
       "</table>\n",
       "</div>"
      ],
      "text/plain": [
       "     Region/Country/Area  Year  \\\n",
       "1688             Burundi  1985   \n",
       "1689             Burundi  1995   \n",
       "1690             Burundi  2005   \n",
       "1691             Burundi  2010   \n",
       "1692             Burundi  2015   \n",
       "\n",
       "                                              Series      Value  \n",
       "1688  GDP in current prices (millions of US dollars)  1171.1502  \n",
       "1689  GDP in current prices (millions of US dollars)  1000.4304  \n",
       "1690  GDP in current prices (millions of US dollars)  1117.1094  \n",
       "1691  GDP in current prices (millions of US dollars)  2032.1376  \n",
       "1692  GDP in current prices (millions of US dollars)  2810.5316  "
      ]
     },
     "execution_count": 163,
     "metadata": {},
     "output_type": "execute_result"
    }
   ],
   "source": [
    "# extracting East African Community countries data from qother data\n",
    "EAC_GDP = GDP_data[(GDP_data['Region/Country/Area'] == 'Rwanda')  |\n",
    "                   (GDP_data['Region/Country/Area'] == 'Burundi') |\n",
    "                   (GDP_data['Region/Country/Area'] == 'Uganda')  |\n",
    "                   (GDP_data['Region/Country/Area'] == 'United Rep. of Tanzania') |\n",
    "                   (GDP_data['Region/Country/Area'] == 'Kenya') |\n",
    "                   (GDP_data['Region/Country/Area'] == 'South Sudan')]\n",
    "EAC_GDP.head()"
   ]
  },
  {
   "cell_type": "code",
   "execution_count": 164,
   "id": "05f6d1ba",
   "metadata": {},
   "outputs": [
    {
     "data": {
      "text/plain": [
       "array(['GDP in current prices (millions of US dollars)',\n",
       "       'GDP per capita (US dollars)',\n",
       "       'GDP in constant 2010 prices (millions of US dollars)',\n",
       "       'GDP real rates of growth (percent)'], dtype=object)"
      ]
     },
     "execution_count": 164,
     "metadata": {},
     "output_type": "execute_result"
    }
   ],
   "source": [
    "#check unique elements in  series column as intended part of assignment in order to group data according to what we are going to use\n",
    "\n",
    "EAC_GDP['Series'].unique()"
   ]
  },
  {
   "cell_type": "code",
   "execution_count": 165,
   "id": "dbe28d32",
   "metadata": {},
   "outputs": [],
   "source": [
    "#grouping data\n",
    "EAC_GDP_grouped = EAC_GDP.groupby('Series')\n"
   ]
  },
  {
   "cell_type": "markdown",
   "id": "097433e0",
   "metadata": {},
   "source": [
    "# GDP analysis based on real rates of growth (percent) \tof East African Community countries"
   ]
  },
  {
   "cell_type": "markdown",
   "id": "0153f942",
   "metadata": {},
   "source": [
    "# Problems to be solved\n",
    "Which country with highest growth rate in EAC?\n",
    "which country with lowest growth rate in EAC?\n",
    "Which trend we get from EAC countries growth rate from 1985 to 2018?"
   ]
  },
  {
   "cell_type": "code",
   "execution_count": 166,
   "id": "c35a7ac8",
   "metadata": {},
   "outputs": [
    {
     "data": {
      "text/html": [
       "<div>\n",
       "<style scoped>\n",
       "    .dataframe tbody tr th:only-of-type {\n",
       "        vertical-align: middle;\n",
       "    }\n",
       "\n",
       "    .dataframe tbody tr th {\n",
       "        vertical-align: top;\n",
       "    }\n",
       "\n",
       "    .dataframe thead th {\n",
       "        text-align: right;\n",
       "    }\n",
       "</style>\n",
       "<table border=\"1\" class=\"dataframe\">\n",
       "  <thead>\n",
       "    <tr style=\"text-align: right;\">\n",
       "      <th></th>\n",
       "      <th>Region/Country/Area</th>\n",
       "      <th>Year</th>\n",
       "      <th>Series</th>\n",
       "      <th>Value</th>\n",
       "    </tr>\n",
       "  </thead>\n",
       "  <tbody>\n",
       "    <tr>\n",
       "      <th>1709</th>\n",
       "      <td>Burundi</td>\n",
       "      <td>1985</td>\n",
       "      <td>GDP real rates of growth (percent)</td>\n",
       "      <td>11.6859</td>\n",
       "    </tr>\n",
       "    <tr>\n",
       "      <th>1710</th>\n",
       "      <td>Burundi</td>\n",
       "      <td>1995</td>\n",
       "      <td>GDP real rates of growth (percent)</td>\n",
       "      <td>-7.0211</td>\n",
       "    </tr>\n",
       "    <tr>\n",
       "      <th>1711</th>\n",
       "      <td>Burundi</td>\n",
       "      <td>2005</td>\n",
       "      <td>GDP real rates of growth (percent)</td>\n",
       "      <td>0.9100</td>\n",
       "    </tr>\n",
       "    <tr>\n",
       "      <th>1712</th>\n",
       "      <td>Burundi</td>\n",
       "      <td>2010</td>\n",
       "      <td>GDP real rates of growth (percent)</td>\n",
       "      <td>5.0921</td>\n",
       "    </tr>\n",
       "    <tr>\n",
       "      <th>1713</th>\n",
       "      <td>Burundi</td>\n",
       "      <td>2015</td>\n",
       "      <td>GDP real rates of growth (percent)</td>\n",
       "      <td>-0.4072</td>\n",
       "    </tr>\n",
       "    <tr>\n",
       "      <th>1714</th>\n",
       "      <td>Burundi</td>\n",
       "      <td>2017</td>\n",
       "      <td>GDP real rates of growth (percent)</td>\n",
       "      <td>4.2131</td>\n",
       "    </tr>\n",
       "    <tr>\n",
       "      <th>1715</th>\n",
       "      <td>Burundi</td>\n",
       "      <td>2018</td>\n",
       "      <td>GDP real rates of growth (percent)</td>\n",
       "      <td>0.1488</td>\n",
       "    </tr>\n",
       "    <tr>\n",
       "      <th>3576</th>\n",
       "      <td>Kenya</td>\n",
       "      <td>1985</td>\n",
       "      <td>GDP real rates of growth (percent)</td>\n",
       "      <td>4.2747</td>\n",
       "    </tr>\n",
       "    <tr>\n",
       "      <th>3577</th>\n",
       "      <td>Kenya</td>\n",
       "      <td>1995</td>\n",
       "      <td>GDP real rates of growth (percent)</td>\n",
       "      <td>4.4052</td>\n",
       "    </tr>\n",
       "    <tr>\n",
       "      <th>3578</th>\n",
       "      <td>Kenya</td>\n",
       "      <td>2005</td>\n",
       "      <td>GDP real rates of growth (percent)</td>\n",
       "      <td>5.9123</td>\n",
       "    </tr>\n",
       "  </tbody>\n",
       "</table>\n",
       "</div>"
      ],
      "text/plain": [
       "     Region/Country/Area  Year                              Series    Value\n",
       "1709             Burundi  1985  GDP real rates of growth (percent)  11.6859\n",
       "1710             Burundi  1995  GDP real rates of growth (percent)  -7.0211\n",
       "1711             Burundi  2005  GDP real rates of growth (percent)   0.9100\n",
       "1712             Burundi  2010  GDP real rates of growth (percent)   5.0921\n",
       "1713             Burundi  2015  GDP real rates of growth (percent)  -0.4072\n",
       "1714             Burundi  2017  GDP real rates of growth (percent)   4.2131\n",
       "1715             Burundi  2018  GDP real rates of growth (percent)   0.1488\n",
       "3576               Kenya  1985  GDP real rates of growth (percent)   4.2747\n",
       "3577               Kenya  1995  GDP real rates of growth (percent)   4.4052\n",
       "3578               Kenya  2005  GDP real rates of growth (percent)   5.9123"
      ]
     },
     "execution_count": 166,
     "metadata": {},
     "output_type": "execute_result"
    }
   ],
   "source": [
    "#  get data of GDP real rates of growth (percent)\n",
    "EAC_GDP_growthrate= EAC_GDP_grouped.get_group('GDP real rates of growth (percent)')\n",
    "maximum1=EAC_GDP_growthrate['Value'].max()# find maximum growth rate\n",
    "minimum1=EAC_GDP_growthrate['Value'].min()# find minimum growth rate\n",
    "\n",
    "EAC_GDP_growthrate.head(10)"
   ]
  },
  {
   "cell_type": "markdown",
   "id": "291f1c89",
   "metadata": {},
   "source": [
    "# Check countries with low and high GDP growth rate in EAC"
   ]
  },
  {
   "cell_type": "code",
   "execution_count": 167,
   "id": "f0ba0262",
   "metadata": {},
   "outputs": [
    {
     "data": {
      "text/html": [
       "<div>\n",
       "<style scoped>\n",
       "    .dataframe tbody tr th:only-of-type {\n",
       "        vertical-align: middle;\n",
       "    }\n",
       "\n",
       "    .dataframe tbody tr th {\n",
       "        vertical-align: top;\n",
       "    }\n",
       "\n",
       "    .dataframe thead th {\n",
       "        text-align: right;\n",
       "    }\n",
       "</style>\n",
       "<table border=\"1\" class=\"dataframe\">\n",
       "  <thead>\n",
       "    <tr style=\"text-align: right;\">\n",
       "      <th></th>\n",
       "      <th>Region/Country/Area</th>\n",
       "      <th>Year</th>\n",
       "      <th>Series</th>\n",
       "      <th>Value</th>\n",
       "    </tr>\n",
       "  </thead>\n",
       "  <tbody>\n",
       "    <tr>\n",
       "      <th>5212</th>\n",
       "      <td>Rwanda</td>\n",
       "      <td>1995</td>\n",
       "      <td>GDP real rates of growth (percent)</td>\n",
       "      <td>33.5226</td>\n",
       "    </tr>\n",
       "  </tbody>\n",
       "</table>\n",
       "</div>"
      ],
      "text/plain": [
       "     Region/Country/Area  Year                              Series    Value\n",
       "5212              Rwanda  1995  GDP real rates of growth (percent)  33.5226"
      ]
     },
     "execution_count": 167,
     "metadata": {},
     "output_type": "execute_result"
    }
   ],
   "source": [
    "#  find country in EAC that had highest growth rate\n",
    "\n",
    "High_gdpgrowthrate_country=EAC_GDP_growthrate[EAC_GDP_growthrate['Value']==maximum1]\n",
    "High_gdpgrowthrate_country"
   ]
  },
  {
   "cell_type": "code",
   "execution_count": 168,
   "id": "08060c9b",
   "metadata": {},
   "outputs": [
    {
     "data": {
      "text/html": [
       "<div>\n",
       "<style scoped>\n",
       "    .dataframe tbody tr th:only-of-type {\n",
       "        vertical-align: middle;\n",
       "    }\n",
       "\n",
       "    .dataframe tbody tr th {\n",
       "        vertical-align: top;\n",
       "    }\n",
       "\n",
       "    .dataframe thead th {\n",
       "        text-align: right;\n",
       "    }\n",
       "</style>\n",
       "<table border=\"1\" class=\"dataframe\">\n",
       "  <thead>\n",
       "    <tr style=\"text-align: right;\">\n",
       "      <th></th>\n",
       "      <th>Region/Country/Area</th>\n",
       "      <th>Year</th>\n",
       "      <th>Series</th>\n",
       "      <th>Value</th>\n",
       "    </tr>\n",
       "  </thead>\n",
       "  <tbody>\n",
       "    <tr>\n",
       "      <th>1710</th>\n",
       "      <td>Burundi</td>\n",
       "      <td>1995</td>\n",
       "      <td>GDP real rates of growth (percent)</td>\n",
       "      <td>-7.0211</td>\n",
       "    </tr>\n",
       "  </tbody>\n",
       "</table>\n",
       "</div>"
      ],
      "text/plain": [
       "     Region/Country/Area  Year                              Series   Value\n",
       "1710             Burundi  1995  GDP real rates of growth (percent) -7.0211"
      ]
     },
     "execution_count": 168,
     "metadata": {},
     "output_type": "execute_result"
    }
   ],
   "source": [
    "# find country in E\n",
    "\n",
    "Low_gdpgrowthrate_country=EAC_GDP_growthrate[EAC_GDP_growthrate['Value']==minimum1]\n",
    "Low_gdpgrowthrate_country"
   ]
  },
  {
   "cell_type": "markdown",
   "id": "3cffecb9",
   "metadata": {},
   "source": [
    "# Checking trends using Histogram"
   ]
  },
  {
   "cell_type": "code",
   "execution_count": 169,
   "id": "d7e91a58",
   "metadata": {},
   "outputs": [
    {
     "data": {
      "image/png": "[encoded data removed]",
      "text/plain": [
       "<Figure size 432x288 with 1 Axes>"
      ]
     },
     "metadata": {
      "needs_background": "light"
     },
     "output_type": "display_data"
    }
   ],
   "source": [
    "plt.title('GDP real rates of growth (percent) of East African Community members')\n",
    "plt.hist(EAC_GDP_growthrate['Value'], bins=10)\n",
    "plt.xlabel('GDP growth rate value in percent')\n",
    "plt.ylabel('frequency')\n",
    "plt.show()\n"
   ]
  },
  {
   "cell_type": "markdown",
   "id": "324c67c6",
   "metadata": {},
   "source": [
    "# Checking trend using line graph"
   ]
  },
  {
   "cell_type": "code",
   "execution_count": 170,
   "id": "5b702754",
   "metadata": {},
   "outputs": [],
   "source": [
    "EAC_bi = EAC_GDP_growthrate[EAC_GDP_growthrate['Region/Country/Area'] == 'Burundi'] \n",
    "EAC_ke = EAC_GDP_growthrate[EAC_GDP_growthrate['Region/Country/Area'] == 'Kenya'] \n",
    "EAC_rw = EAC_GDP_growthrate[EAC_GDP_growthrate['Region/Country/Area'] == 'Rwanda'] \n",
    "EAC_ss = EAC_GDP_growthrate[EAC_GDP_growthrate['Region/Country/Area'] == 'South Sudan'] \n",
    "EAC_ug = EAC_GDP_growthrate[EAC_GDP_growthrate['Region/Country/Area'] == 'Uganda'] \n",
    "EAC_tz = EAC_GDP_growthrate[EAC_GDP_growthrate['Region/Country/Area'] == 'United Rep. of Tanzania'] "
   ]
  },
  {
   "cell_type": "code",
   "execution_count": 171,
   "id": "7bcc5c13",
   "metadata": {},
   "outputs": [
    {
     "data": {
      "image/png": "[encoded data removed]",
      "text/plain": [
       "<Figure size 432x288 with 1 Axes>"
      ]
     },
     "metadata": {
      "needs_background": "light"
     },
     "output_type": "display_data"
    }
   ],
   "source": [
    "\n",
    "plt.title('GDP real rates of growth (percent) of East African Community members')\n",
    "plt.xlabel('year')\n",
    "plt.ylabel(' GDP growth rate')\n",
    "plt.plot(EAC_bi['Year'],EAC_bi['Value'], label = 'BU')\n",
    "plt.plot(EAC_ke['Year'],EAC_ke['Value'], label = 'KE')\n",
    "plt.plot(EAC_rw['Year'],EAC_rw['Value'], label = 'RW')\n",
    "plt.plot(EAC_ss['Year'],EAC_ss['Value'], label = 'SS')\n",
    "plt.plot(EAC_ug['Year'],EAC_ug['Value'], label = 'UG')\n",
    "plt.plot(EAC_tz['Year'],EAC_tz['Value'], label = 'TZ')\n",
    "plt.legend()\n",
    "plt.show()"
   ]
  },
  {
   "cell_type": "markdown",
   "id": "2b66e0fc",
   "metadata": {},
   "source": [
    "# Checking trend using scatter plot and correlation"
   ]
  },
  {
   "cell_type": "code",
   "execution_count": 172,
   "id": "170af6bf",
   "metadata": {},
   "outputs": [
    {
     "data": {
      "image/png": "[encoded data removed]",
      "text/plain": [
       "<Figure size 432x288 with 1 Axes>"
      ]
     },
     "metadata": {
      "needs_background": "light"
     },
     "output_type": "display_data"
    }
   ],
   "source": [
    "# scatter plot\n",
    "plt.title('GDP real rates of growth (percent) of East African Community members')\n",
    "plt.xlabel('year')\n",
    "plt.ylabel(' GDP growth rate')\n",
    "plt.scatter(EAC_bi['Year'],EAC_bi['Value'], label = 'BU')\n",
    "plt.scatter(EAC_ke['Year'],EAC_ke['Value'], label = 'KE')\n",
    "plt.scatter(EAC_rw['Year'],EAC_rw['Value'], label = 'RW')\n",
    "plt.scatter(EAC_ss['Year'],EAC_ss['Value'], label = 'SS')\n",
    "plt.scatter(EAC_ug['Year'],EAC_ug['Value'], label = 'UG')\n",
    "plt.scatter(EAC_tz['Year'],EAC_tz['Value'], label = 'TZ')\n",
    "plt.legend()\n",
    "plt.show()"
   ]
  },
  {
   "cell_type": "markdown",
   "id": "d3a9b4ef",
   "metadata": {},
   "source": [
    "#  GDP analysis based on GDP per capita (US dollars) in East African Commuty members"
   ]
  },
  {
   "cell_type": "markdown",
   "id": "9a552410",
   "metadata": {},
   "source": [
    "# Questions to be solved\n",
    "\n",
    "Which country that  had higher GDP than others in EAC from 1985 to 2018?\n",
    "Which country with lowest GDP in EAC from 1985 to 2018?\n",
    "Checking if there is trend of GDP within EAC countries from 1985 to 2018 using different visualization.\n"
   ]
  },
  {
   "cell_type": "code",
   "execution_count": 173,
   "id": "ade1f06e",
   "metadata": {},
   "outputs": [
    {
     "data": {
      "text/html": [
       "<div>\n",
       "<style scoped>\n",
       "    .dataframe tbody tr th:only-of-type {\n",
       "        vertical-align: middle;\n",
       "    }\n",
       "\n",
       "    .dataframe tbody tr th {\n",
       "        vertical-align: top;\n",
       "    }\n",
       "\n",
       "    .dataframe thead th {\n",
       "        text-align: right;\n",
       "    }\n",
       "</style>\n",
       "<table border=\"1\" class=\"dataframe\">\n",
       "  <thead>\n",
       "    <tr style=\"text-align: right;\">\n",
       "      <th></th>\n",
       "      <th>Region/Country/Area</th>\n",
       "      <th>Year</th>\n",
       "      <th>Series</th>\n",
       "      <th>Value</th>\n",
       "    </tr>\n",
       "  </thead>\n",
       "  <tbody>\n",
       "    <tr>\n",
       "      <th>1695</th>\n",
       "      <td>Burundi</td>\n",
       "      <td>1985</td>\n",
       "      <td>GDP per capita (US dollars)</td>\n",
       "      <td>246.5145</td>\n",
       "    </tr>\n",
       "    <tr>\n",
       "      <th>1696</th>\n",
       "      <td>Burundi</td>\n",
       "      <td>1995</td>\n",
       "      <td>GDP per capita (US dollars)</td>\n",
       "      <td>167.0993</td>\n",
       "    </tr>\n",
       "    <tr>\n",
       "      <th>1697</th>\n",
       "      <td>Burundi</td>\n",
       "      <td>2005</td>\n",
       "      <td>GDP per capita (US dollars)</td>\n",
       "      <td>151.6810</td>\n",
       "    </tr>\n",
       "    <tr>\n",
       "      <th>1698</th>\n",
       "      <td>Burundi</td>\n",
       "      <td>2010</td>\n",
       "      <td>GDP per capita (US dollars)</td>\n",
       "      <td>234.2359</td>\n",
       "    </tr>\n",
       "    <tr>\n",
       "      <th>1699</th>\n",
       "      <td>Burundi</td>\n",
       "      <td>2015</td>\n",
       "      <td>GDP per capita (US dollars)</td>\n",
       "      <td>276.6263</td>\n",
       "    </tr>\n",
       "    <tr>\n",
       "      <th>1700</th>\n",
       "      <td>Burundi</td>\n",
       "      <td>2017</td>\n",
       "      <td>GDP per capita (US dollars)</td>\n",
       "      <td>297.1286</td>\n",
       "    </tr>\n",
       "    <tr>\n",
       "      <th>1701</th>\n",
       "      <td>Burundi</td>\n",
       "      <td>2018</td>\n",
       "      <td>GDP per capita (US dollars)</td>\n",
       "      <td>293.9633</td>\n",
       "    </tr>\n",
       "    <tr>\n",
       "      <th>3562</th>\n",
       "      <td>Kenya</td>\n",
       "      <td>1985</td>\n",
       "      <td>GDP per capita (US dollars)</td>\n",
       "      <td>458.3368</td>\n",
       "    </tr>\n",
       "    <tr>\n",
       "      <th>3563</th>\n",
       "      <td>Kenya</td>\n",
       "      <td>1995</td>\n",
       "      <td>GDP per capita (US dollars)</td>\n",
       "      <td>483.5729</td>\n",
       "    </tr>\n",
       "    <tr>\n",
       "      <th>3564</th>\n",
       "      <td>Kenya</td>\n",
       "      <td>2005</td>\n",
       "      <td>GDP per capita (US dollars)</td>\n",
       "      <td>587.1834</td>\n",
       "    </tr>\n",
       "  </tbody>\n",
       "</table>\n",
       "</div>"
      ],
      "text/plain": [
       "     Region/Country/Area  Year                       Series     Value\n",
       "1695             Burundi  1985  GDP per capita (US dollars)  246.5145\n",
       "1696             Burundi  1995  GDP per capita (US dollars)  167.0993\n",
       "1697             Burundi  2005  GDP per capita (US dollars)  151.6810\n",
       "1698             Burundi  2010  GDP per capita (US dollars)  234.2359\n",
       "1699             Burundi  2015  GDP per capita (US dollars)  276.6263\n",
       "1700             Burundi  2017  GDP per capita (US dollars)  297.1286\n",
       "1701             Burundi  2018  GDP per capita (US dollars)  293.9633\n",
       "3562               Kenya  1985  GDP per capita (US dollars)  458.3368\n",
       "3563               Kenya  1995  GDP per capita (US dollars)  483.5729\n",
       "3564               Kenya  2005  GDP per capita (US dollars)  587.1834"
      ]
     },
     "execution_count": 173,
     "metadata": {},
     "output_type": "execute_result"
    }
   ],
   "source": [
    "# get GDP per capita data\n",
    "EAC_GDP_per_capita = EAC_GDP_grouped.get_group('GDP per capita (US dollars)')\n",
    "maximum=EAC_GDP_per_capita['Value'].max()\n",
    "minimum=EAC_GDP_per_capita['Value'].min()\n",
    "EAC_GDP_per_capita.head(10)"
   ]
  },
  {
   "cell_type": "markdown",
   "id": "35e88c7f",
   "metadata": {},
   "source": [
    "# Check countries with low and high GDP"
   ]
  },
  {
   "cell_type": "code",
   "execution_count": 174,
   "id": "d2adb72e",
   "metadata": {},
   "outputs": [
    {
     "data": {
      "text/plain": [
       "1710.4747"
      ]
     },
     "execution_count": 174,
     "metadata": {},
     "output_type": "execute_result"
    }
   ],
   "source": [
    "#Checking maximum GDP in east africa community\n",
    "maximum"
   ]
  },
  {
   "cell_type": "code",
   "execution_count": 175,
   "id": "e53a92b7",
   "metadata": {},
   "outputs": [
    {
     "data": {
      "text/plain": [
       "151.681"
      ]
     },
     "execution_count": 175,
     "metadata": {},
     "output_type": "execute_result"
    }
   ],
   "source": [
    "#Checking minimum GDP in east africa community\n",
    "minimum"
   ]
  },
  {
   "cell_type": "code",
   "execution_count": 176,
   "id": "bde5bce0",
   "metadata": {},
   "outputs": [
    {
     "data": {
      "text/html": [
       "<div>\n",
       "<style scoped>\n",
       "    .dataframe tbody tr th:only-of-type {\n",
       "        vertical-align: middle;\n",
       "    }\n",
       "\n",
       "    .dataframe tbody tr th {\n",
       "        vertical-align: top;\n",
       "    }\n",
       "\n",
       "    .dataframe thead th {\n",
       "        text-align: right;\n",
       "    }\n",
       "</style>\n",
       "<table border=\"1\" class=\"dataframe\">\n",
       "  <thead>\n",
       "    <tr style=\"text-align: right;\">\n",
       "      <th></th>\n",
       "      <th>Region/Country/Area</th>\n",
       "      <th>Year</th>\n",
       "      <th>Series</th>\n",
       "      <th>Value</th>\n",
       "    </tr>\n",
       "  </thead>\n",
       "  <tbody>\n",
       "    <tr>\n",
       "      <th>3568</th>\n",
       "      <td>Kenya</td>\n",
       "      <td>2018</td>\n",
       "      <td>GDP per capita (US dollars)</td>\n",
       "      <td>1710.4747</td>\n",
       "    </tr>\n",
       "  </tbody>\n",
       "</table>\n",
       "</div>"
      ],
      "text/plain": [
       "     Region/Country/Area  Year                       Series      Value\n",
       "3568               Kenya  2018  GDP per capita (US dollars)  1710.4747"
      ]
     },
     "execution_count": 176,
     "metadata": {},
     "output_type": "execute_result"
    }
   ],
   "source": [
    "# find country with high GDP\n",
    "High_gdp_country=EAC_GDP_per_capita[EAC_GDP_per_capita['Value']==maximum]\n",
    "High_gdp_country\n"
   ]
  },
  {
   "cell_type": "code",
   "execution_count": 177,
   "id": "eeddf1d0",
   "metadata": {},
   "outputs": [
    {
     "data": {
      "text/html": [
       "<div>\n",
       "<style scoped>\n",
       "    .dataframe tbody tr th:only-of-type {\n",
       "        vertical-align: middle;\n",
       "    }\n",
       "\n",
       "    .dataframe tbody tr th {\n",
       "        vertical-align: top;\n",
       "    }\n",
       "\n",
       "    .dataframe thead th {\n",
       "        text-align: right;\n",
       "    }\n",
       "</style>\n",
       "<table border=\"1\" class=\"dataframe\">\n",
       "  <thead>\n",
       "    <tr style=\"text-align: right;\">\n",
       "      <th></th>\n",
       "      <th>Region/Country/Area</th>\n",
       "      <th>Year</th>\n",
       "      <th>Series</th>\n",
       "      <th>Value</th>\n",
       "    </tr>\n",
       "  </thead>\n",
       "  <tbody>\n",
       "    <tr>\n",
       "      <th>1697</th>\n",
       "      <td>Burundi</td>\n",
       "      <td>2005</td>\n",
       "      <td>GDP per capita (US dollars)</td>\n",
       "      <td>151.681</td>\n",
       "    </tr>\n",
       "  </tbody>\n",
       "</table>\n",
       "</div>"
      ],
      "text/plain": [
       "     Region/Country/Area  Year                       Series    Value\n",
       "1697             Burundi  2005  GDP per capita (US dollars)  151.681"
      ]
     },
     "execution_count": 177,
     "metadata": {},
     "output_type": "execute_result"
    }
   ],
   "source": [
    "# find country with low GDP\n",
    "low_gdp_country=EAC_GDP_per_capita[EAC_GDP_per_capita['Value']==minimum]\n",
    "low_gdp_country"
   ]
  },
  {
   "cell_type": "markdown",
   "id": "e906613e",
   "metadata": {},
   "source": [
    "# Checking trends Using histogram"
   ]
  },
  {
   "cell_type": "code",
   "execution_count": 178,
   "id": "82b5b27f",
   "metadata": {},
   "outputs": [
    {
     "data": {
      "image/png": "[encoded data removed]",
      "text/plain": [
       "<Figure size 432x288 with 1 Axes>"
      ]
     },
     "metadata": {
      "needs_background": "light"
     },
     "output_type": "display_data"
    }
   ],
   "source": [
    "\n",
    "plt.title('GDP real rates of growth (percent) of  East African Community members')\n",
    "plt.hist( EAC_GDP_per_capita['Value'], bins=10)\n",
    "plt.xlabel('GDP value')\n",
    "plt.ylabel('frequency')\n",
    "plt.show()"
   ]
  },
  {
   "cell_type": "markdown",
   "id": "879e339e",
   "metadata": {},
   "source": [
    "# checking trend using line graph"
   ]
  },
  {
   "cell_type": "code",
   "execution_count": 179,
   "id": "4c613bb3",
   "metadata": {},
   "outputs": [],
   "source": [
    "\n",
    "EAC_bi2 = EAC_GDP_per_capita[EAC_GDP_per_capita['Region/Country/Area'] == 'Burundi'] \n",
    "EAC_ke2 = EAC_GDP_per_capita[EAC_GDP_per_capita['Region/Country/Area'] == 'Kenya'] \n",
    "EAC_rw2 = EAC_GDP_per_capita[EAC_GDP_per_capita['Region/Country/Area'] == 'Rwanda'] \n",
    "EAC_ss2 = EAC_GDP_per_capita[EAC_GDP_per_capita['Region/Country/Area'] == 'South Sudan'] \n",
    "EAC_ug2 = EAC_GDP_per_capita[EAC_GDP_per_capita['Region/Country/Area'] == 'Uganda'] \n",
    "EAC_tz2 = EAC_GDP_per_capita[EAC_GDP_per_capita['Region/Country/Area'] == 'United Rep. of Tanzania'] "
   ]
  },
  {
   "cell_type": "code",
   "execution_count": 180,
   "id": "632d2c6d",
   "metadata": {},
   "outputs": [
    {
     "data": {
      "image/png": "[encoded data removed]",
      "text/plain": [
       "<Figure size 432x288 with 1 Axes>"
      ]
     },
     "metadata": {
      "needs_background": "light"
     },
     "output_type": "display_data"
    }
   ],
   "source": [
    "\n",
    "plt.title('GDP per capita in dollars of East African Community members')\n",
    "plt.xlabel('year')\n",
    "plt.ylabel(' GDP in dollars')\n",
    "plt.plot(EAC_bi2['Year'],EAC_bi2['Value'], label = 'BU')\n",
    "plt.plot(EAC_ke2['Year'],EAC_ke2['Value'], label = 'KE')\n",
    "plt.plot(EAC_rw2['Year'],EAC_rw2['Value'], label = 'RW')\n",
    "plt.plot(EAC_ss2['Year'],EAC_ss2['Value'], label = 'SS')\n",
    "plt.plot(EAC_ug2['Year'],EAC_ug2['Value'], label = 'UG')\n",
    "plt.plot(EAC_tz2['Year'],EAC_tz2['Value'], label = 'TZ')\n",
    "plt.legend()\n",
    "plt.show()"
   ]
  },
  {
   "cell_type": "markdown",
   "id": "638a23eb",
   "metadata": {},
   "source": [
    "# Checking trend using scatter plot"
   ]
  },
  {
   "cell_type": "code",
   "execution_count": 181,
   "id": "f987535a",
   "metadata": {},
   "outputs": [
    {
     "data": {
      "image/png": "[encoded data removed]",
      "text/plain": [
       "<Figure size 432x288 with 1 Axes>"
      ]
     },
     "metadata": {
      "needs_background": "light"
     },
     "output_type": "display_data"
    }
   ],
   "source": [
    "\n",
    "plt.title('GDP per capita in dollars of East African Community members')\n",
    "plt.xlabel('year')\n",
    "plt.ylabel(' GDP growth rate')\n",
    "plt.scatter(EAC_bi2['Year'],EAC_bi2['Value'], label = 'BU')\n",
    "plt.scatter(EAC_ke2['Year'],EAC_ke2['Value'], label = 'KE')\n",
    "plt.scatter(EAC_rw2['Year'],EAC_rw2['Value'], label = 'RW')\n",
    "plt.scatter(EAC_ss2['Year'],EAC_ss2['Value'], label = 'SS')\n",
    "plt.scatter(EAC_ug2['Year'],EAC_ug2['Value'], label = 'UG')\n",
    "plt.scatter(EAC_tz2['Year'],EAC_tz2['Value'], label = 'TZ')\n",
    "plt.legend()\n",
    "plt.show()"
   ]
  },
  {
   "cell_type": "markdown",
   "id": "6cc60040",
   "metadata": {},
   "source": [
    "# ARAB MAHREB UNION(AMU) MEMBERS GDP analysis"
   ]
  },
  {
   "cell_type": "markdown",
   "id": "9e9466fc",
   "metadata": {},
   "source": [
    "# QUESTION TO BE SOLVED\n",
    "checking growth rate of AMUcountries from 1985 to 2018?\n",
    "checking country which had highest and lowest growth rate in that period?\n",
    "compare EAC countries growth rate with AMU contries?\n",
    "checking country which had highest and lowest GDP per capita in that period?\n",
    "checking trends using different visualizations like histogram,line graph and scatter plot?\n"
   ]
  },
  {
   "cell_type": "code",
   "execution_count": 182,
   "id": "9b6874aa",
   "metadata": {},
   "outputs": [
    {
     "data": {
      "text/html": [
       "<div>\n",
       "<style scoped>\n",
       "    .dataframe tbody tr th:only-of-type {\n",
       "        vertical-align: middle;\n",
       "    }\n",
       "\n",
       "    .dataframe tbody tr th {\n",
       "        vertical-align: top;\n",
       "    }\n",
       "\n",
       "    .dataframe thead th {\n",
       "        text-align: right;\n",
       "    }\n",
       "</style>\n",
       "<table border=\"1\" class=\"dataframe\">\n",
       "  <thead>\n",
       "    <tr style=\"text-align: right;\">\n",
       "      <th></th>\n",
       "      <th>Region/Country/Area</th>\n",
       "      <th>Year</th>\n",
       "      <th>Series</th>\n",
       "      <th>Value</th>\n",
       "    </tr>\n",
       "  </thead>\n",
       "  <tbody>\n",
       "    <tr>\n",
       "      <th>892</th>\n",
       "      <td>Algeria</td>\n",
       "      <td>1985</td>\n",
       "      <td>GDP in current prices (millions of US dollars)</td>\n",
       "      <td>57866.2073</td>\n",
       "    </tr>\n",
       "    <tr>\n",
       "      <th>893</th>\n",
       "      <td>Algeria</td>\n",
       "      <td>1995</td>\n",
       "      <td>GDP in current prices (millions of US dollars)</td>\n",
       "      <td>41971.4884</td>\n",
       "    </tr>\n",
       "    <tr>\n",
       "      <th>899</th>\n",
       "      <td>Algeria</td>\n",
       "      <td>1985</td>\n",
       "      <td>GDP per capita (US dollars)</td>\n",
       "      <td>2579.6849</td>\n",
       "    </tr>\n",
       "    <tr>\n",
       "      <th>900</th>\n",
       "      <td>Algeria</td>\n",
       "      <td>1995</td>\n",
       "      <td>GDP per capita (US dollars)</td>\n",
       "      <td>1459.4827</td>\n",
       "    </tr>\n",
       "    <tr>\n",
       "      <th>901</th>\n",
       "      <td>Algeria</td>\n",
       "      <td>2005</td>\n",
       "      <td>GDP per capita (US dollars)</td>\n",
       "      <td>3113.0943</td>\n",
       "    </tr>\n",
       "    <tr>\n",
       "      <th>902</th>\n",
       "      <td>Algeria</td>\n",
       "      <td>2010</td>\n",
       "      <td>GDP per capita (US dollars)</td>\n",
       "      <td>4480.7868</td>\n",
       "    </tr>\n",
       "    <tr>\n",
       "      <th>903</th>\n",
       "      <td>Algeria</td>\n",
       "      <td>2015</td>\n",
       "      <td>GDP per capita (US dollars)</td>\n",
       "      <td>4177.8850</td>\n",
       "    </tr>\n",
       "    <tr>\n",
       "      <th>904</th>\n",
       "      <td>Algeria</td>\n",
       "      <td>2017</td>\n",
       "      <td>GDP per capita (US dollars)</td>\n",
       "      <td>4044.2902</td>\n",
       "    </tr>\n",
       "    <tr>\n",
       "      <th>905</th>\n",
       "      <td>Algeria</td>\n",
       "      <td>2018</td>\n",
       "      <td>GDP per capita (US dollars)</td>\n",
       "      <td>4114.7061</td>\n",
       "    </tr>\n",
       "    <tr>\n",
       "      <th>906</th>\n",
       "      <td>Algeria</td>\n",
       "      <td>1985</td>\n",
       "      <td>GDP in constant 2010 prices (millions of US do...</td>\n",
       "      <td>77474.3481</td>\n",
       "    </tr>\n",
       "  </tbody>\n",
       "</table>\n",
       "</div>"
      ],
      "text/plain": [
       "    Region/Country/Area  Year  \\\n",
       "892             Algeria  1985   \n",
       "893             Algeria  1995   \n",
       "899             Algeria  1985   \n",
       "900             Algeria  1995   \n",
       "901             Algeria  2005   \n",
       "902             Algeria  2010   \n",
       "903             Algeria  2015   \n",
       "904             Algeria  2017   \n",
       "905             Algeria  2018   \n",
       "906             Algeria  1985   \n",
       "\n",
       "                                                Series       Value  \n",
       "892     GDP in current prices (millions of US dollars)  57866.2073  \n",
       "893     GDP in current prices (millions of US dollars)  41971.4884  \n",
       "899                        GDP per capita (US dollars)   2579.6849  \n",
       "900                        GDP per capita (US dollars)   1459.4827  \n",
       "901                        GDP per capita (US dollars)   3113.0943  \n",
       "902                        GDP per capita (US dollars)   4480.7868  \n",
       "903                        GDP per capita (US dollars)   4177.8850  \n",
       "904                        GDP per capita (US dollars)   4044.2902  \n",
       "905                        GDP per capita (US dollars)   4114.7061  \n",
       "906  GDP in constant 2010 prices (millions of US do...  77474.3481  "
      ]
     },
     "execution_count": 182,
     "metadata": {},
     "output_type": "execute_result"
    }
   ],
   "source": [
    "# extracting  AMU membes\n",
    "AMU = GDP_data[(GDP_data['Region/Country/Area'] == 'Algeria')  |\n",
    "                   (GDP_data['Region/Country/Area'] == 'Libya') |\n",
    "                   (GDP_data['Region/Country/Area'] == 'Mauritania')  |\n",
    "                   (GDP_data['Region/Country/Area'] == 'Morocco') |\n",
    "                   (GDP_data['Region/Country/Area'] == 'Tunisia') ]\n",
    "AMU.head(10)"
   ]
  },
  {
   "cell_type": "code",
   "execution_count": 183,
   "id": "1bee8a7d",
   "metadata": {},
   "outputs": [
    {
     "data": {
      "text/plain": [
       "64.0141"
      ]
     },
     "execution_count": 183,
     "metadata": {},
     "output_type": "execute_result"
    }
   ],
   "source": [
    "#grouping AMU members \n",
    "AMU_GDP_grouped = AMU.groupby('Series')\n",
    "# extrat only GDP growth rate data\n",
    "AMU_GDP_growthrate= AMU_GDP_grouped.get_group('GDP real rates of growth (percent)')\n",
    "maximum2=AMU_GDP_growthrate['Value'].max()# find maximum rate\n",
    "minimum2=AMU_GDP_growthrate['Value'].min()# find minimum rate\n",
    "maximum2\n"
   ]
  },
  {
   "cell_type": "code",
   "execution_count": 184,
   "id": "66ae4953",
   "metadata": {},
   "outputs": [
    {
     "data": {
      "text/plain": [
       "-45.4985"
      ]
     },
     "execution_count": 184,
     "metadata": {},
     "output_type": "execute_result"
    }
   ],
   "source": [
    "minimum2"
   ]
  },
  {
   "cell_type": "code",
   "execution_count": 185,
   "id": "65b37027",
   "metadata": {},
   "outputs": [
    {
     "data": {
      "text/html": [
       "<div>\n",
       "<style scoped>\n",
       "    .dataframe tbody tr th:only-of-type {\n",
       "        vertical-align: middle;\n",
       "    }\n",
       "\n",
       "    .dataframe tbody tr th {\n",
       "        vertical-align: top;\n",
       "    }\n",
       "\n",
       "    .dataframe thead th {\n",
       "        text-align: right;\n",
       "    }\n",
       "</style>\n",
       "<table border=\"1\" class=\"dataframe\">\n",
       "  <thead>\n",
       "    <tr style=\"text-align: right;\">\n",
       "      <th></th>\n",
       "      <th>Region/Country/Area</th>\n",
       "      <th>Year</th>\n",
       "      <th>Series</th>\n",
       "      <th>Value</th>\n",
       "    </tr>\n",
       "  </thead>\n",
       "  <tbody>\n",
       "    <tr>\n",
       "      <th>3848</th>\n",
       "      <td>Libya</td>\n",
       "      <td>2017</td>\n",
       "      <td>GDP real rates of growth (percent)</td>\n",
       "      <td>64.0141</td>\n",
       "    </tr>\n",
       "  </tbody>\n",
       "</table>\n",
       "</div>"
      ],
      "text/plain": [
       "     Region/Country/Area  Year                              Series    Value\n",
       "3848               Libya  2017  GDP real rates of growth (percent)  64.0141"
      ]
     },
     "execution_count": 185,
     "metadata": {},
     "output_type": "execute_result"
    }
   ],
   "source": [
    "# find country in AMU members which had higher growth rate than others\n",
    "High_gdpgrowthrate_AMUcountries=AMU_GDP_growthrate[AMU_GDP_growthrate['Value']==maximum2]\n",
    "High_gdpgrowthrate_AMUcountries\n"
   ]
  },
  {
   "cell_type": "code",
   "execution_count": 186,
   "id": "0de0bf38",
   "metadata": {},
   "outputs": [
    {
     "data": {
      "text/html": [
       "<div>\n",
       "<style scoped>\n",
       "    .dataframe tbody tr th:only-of-type {\n",
       "        vertical-align: middle;\n",
       "    }\n",
       "\n",
       "    .dataframe tbody tr th {\n",
       "        vertical-align: top;\n",
       "    }\n",
       "\n",
       "    .dataframe thead th {\n",
       "        text-align: right;\n",
       "    }\n",
       "</style>\n",
       "<table border=\"1\" class=\"dataframe\">\n",
       "  <thead>\n",
       "    <tr style=\"text-align: right;\">\n",
       "      <th></th>\n",
       "      <th>Region/Country/Area</th>\n",
       "      <th>Year</th>\n",
       "      <th>Series</th>\n",
       "      <th>Value</th>\n",
       "    </tr>\n",
       "  </thead>\n",
       "  <tbody>\n",
       "    <tr>\n",
       "      <th>3847</th>\n",
       "      <td>Libya</td>\n",
       "      <td>2015</td>\n",
       "      <td>GDP real rates of growth (percent)</td>\n",
       "      <td>-45.4985</td>\n",
       "    </tr>\n",
       "  </tbody>\n",
       "</table>\n",
       "</div>"
      ],
      "text/plain": [
       "     Region/Country/Area  Year                              Series    Value\n",
       "3847               Libya  2015  GDP real rates of growth (percent) -45.4985"
      ]
     },
     "execution_count": 186,
     "metadata": {},
     "output_type": "execute_result"
    }
   ],
   "source": [
    "# find country in AMU members which had lower growth rate than others\n",
    "Low_gdpgrowthrate_AMUcountries=AMU_GDP_growthrate[AMU_GDP_growthrate['Value']==minimum2]\n",
    "Low_gdpgrowthrate_AMUcountries"
   ]
  },
  {
   "cell_type": "code",
   "execution_count": 187,
   "id": "2ff4e3bd",
   "metadata": {},
   "outputs": [
    {
     "data": {
      "image/png": "[encoded data removed]",
      "text/plain": [
       "<Figure size 432x288 with 1 Axes>"
      ]
     },
     "metadata": {
      "needs_background": "light"
     },
     "output_type": "display_data"
    }
   ],
   "source": [
    "\n",
    "plt.title('GDP real rates of growth (percent) of Arab magreb union members')\n",
    "plt.hist( AMU_GDP_growthrate['Value'], bins=10)\n",
    "plt.xlabel('GDP value')\n",
    "plt.ylabel('frequency')\n",
    "plt.show()"
   ]
  },
  {
   "cell_type": "code",
   "execution_count": 188,
   "id": "2e350bb3",
   "metadata": {},
   "outputs": [],
   "source": [
    "AMU_AL = AMU_GDP_growthrate[AMU_GDP_growthrate['Region/Country/Area'] == 'Algeria'] \n",
    "AMU_LB = AMU_GDP_growthrate[AMU_GDP_growthrate['Region/Country/Area'] == 'Libya'] \n",
    "AMU_MA = AMU_GDP_growthrate[AMU_GDP_growthrate['Region/Country/Area'] == 'Mauritania'] \n",
    "AMU_MO = AMU_GDP_growthrate[AMU_GDP_growthrate['Region/Country/Area'] == 'Morocco'] \n",
    "AMU_TU = AMU_GDP_growthrate[AMU_GDP_growthrate['Region/Country/Area'] == 'Tunisia'] \n"
   ]
  },
  {
   "cell_type": "code",
   "execution_count": 189,
   "id": "98cf0ea9",
   "metadata": {},
   "outputs": [
    {
     "data": {
      "image/png": "[encoded data removed]",
      "text/plain": [
       "<Figure size 432x288 with 1 Axes>"
      ]
     },
     "metadata": {
      "needs_background": "light"
     },
     "output_type": "display_data"
    }
   ],
   "source": [
    "plt.title('Line graph of GDP growth rate of  Arab Mahreb Union members ')\n",
    "plt.xlabel('year')\n",
    "plt.ylabel('GDP growth rate')\n",
    "plt.plot(AMU_AL['Year'],AMU_AL['Value'], label = 'AL')\n",
    "plt.plot(AMU_LB['Year'],AMU_LB['Value'], label = 'LB' )\n",
    "plt.plot(AMU_MA['Year'],AMU_MA['Value'], label = 'MA')\n",
    "plt.plot(AMU_MO['Year'],AMU_MO['Value'], label = 'MO')\n",
    "plt.plot(AMU_TU['Year'],AMU_TU['Value'], label = 'TU')\n",
    "\n",
    "plt.legend()\n",
    "plt.show()"
   ]
  },
  {
   "cell_type": "code",
   "execution_count": 190,
   "id": "5fcdac5a",
   "metadata": {},
   "outputs": [
    {
     "data": {
      "image/png": "[encoded data removed]",
      "text/plain": [
       "<Figure size 432x288 with 1 Axes>"
      ]
     },
     "metadata": {
      "needs_background": "light"
     },
     "output_type": "display_data"
    }
   ],
   "source": [
    "plt.title(' Scatter plot of GDP growth rate of  AMU contries')\n",
    "plt.xlabel('year')\n",
    "plt.ylabel('GDP growth rate')\n",
    "plt.scatter(AMU_AL['Year'],AMU_AL['Value'], label = 'AL')\n",
    "plt.scatter(AMU_LB['Year'],AMU_LB['Value'], label = 'LB' )\n",
    "plt.scatter(AMU_MA['Year'],AMU_MA['Value'], label = 'MA')\n",
    "plt.scatter(AMU_MO['Year'],AMU_MO['Value'], label = 'MO')\n",
    "plt.scatter(AMU_TU['Year'],AMU_TU['Value'], label = 'TU')\n",
    "\n",
    "plt.legend()\n",
    "plt.show()"
   ]
  },
  {
   "cell_type": "code",
   "execution_count": 191,
   "id": "35f3b57b",
   "metadata": {},
   "outputs": [],
   "source": [
    "# extract GDP  per capita data\n",
    "AMU_GDP_per_capita = AMU_GDP_grouped.get_group('GDP per capita (US dollars)')\n",
    "maximum2=AMU_GDP_per_capita['Value'].max()# maximum GDP\n",
    "minimum2=AMU_GDP_per_capita['Value'].min()# minimum GDP\n"
   ]
  },
  {
   "cell_type": "code",
   "execution_count": 192,
   "id": "f71a6225",
   "metadata": {},
   "outputs": [
    {
     "data": {
      "text/html": [
       "<div>\n",
       "<style scoped>\n",
       "    .dataframe tbody tr th:only-of-type {\n",
       "        vertical-align: middle;\n",
       "    }\n",
       "\n",
       "    .dataframe tbody tr th {\n",
       "        vertical-align: top;\n",
       "    }\n",
       "\n",
       "    .dataframe thead th {\n",
       "        text-align: right;\n",
       "    }\n",
       "</style>\n",
       "<table border=\"1\" class=\"dataframe\">\n",
       "  <thead>\n",
       "    <tr style=\"text-align: right;\">\n",
       "      <th></th>\n",
       "      <th>Region/Country/Area</th>\n",
       "      <th>Year</th>\n",
       "      <th>Series</th>\n",
       "      <th>Value</th>\n",
       "    </tr>\n",
       "  </thead>\n",
       "  <tbody>\n",
       "    <tr>\n",
       "      <th>3832</th>\n",
       "      <td>Libya</td>\n",
       "      <td>2010</td>\n",
       "      <td>GDP per capita (US dollars)</td>\n",
       "      <td>13060.1518</td>\n",
       "    </tr>\n",
       "  </tbody>\n",
       "</table>\n",
       "</div>"
      ],
      "text/plain": [
       "     Region/Country/Area  Year                       Series       Value\n",
       "3832               Libya  2010  GDP per capita (US dollars)  13060.1518"
      ]
     },
     "execution_count": 192,
     "metadata": {},
     "output_type": "execute_result"
    }
   ],
   "source": [
    "# find AMU member with higher GDP \n",
    "High_gdppercapita_AMUcountries=AMU_GDP_per_capita [(AMU_GDP_per_capita ['Value']==maximum2)]\n",
    "High_gdppercapita_AMUcountries"
   ]
  },
  {
   "cell_type": "code",
   "execution_count": 193,
   "id": "e4efec95",
   "metadata": {},
   "outputs": [
    {
     "data": {
      "text/html": [
       "<div>\n",
       "<style scoped>\n",
       "    .dataframe tbody tr th:only-of-type {\n",
       "        vertical-align: middle;\n",
       "    }\n",
       "\n",
       "    .dataframe tbody tr th {\n",
       "        vertical-align: top;\n",
       "    }\n",
       "\n",
       "    .dataframe thead th {\n",
       "        text-align: right;\n",
       "    }\n",
       "</style>\n",
       "<table border=\"1\" class=\"dataframe\">\n",
       "  <thead>\n",
       "    <tr style=\"text-align: right;\">\n",
       "      <th></th>\n",
       "      <th>Region/Country/Area</th>\n",
       "      <th>Year</th>\n",
       "      <th>Series</th>\n",
       "      <th>Value</th>\n",
       "    </tr>\n",
       "  </thead>\n",
       "  <tbody>\n",
       "    <tr>\n",
       "      <th>4353</th>\n",
       "      <td>Morocco</td>\n",
       "      <td>1985</td>\n",
       "      <td>GDP per capita (US dollars)</td>\n",
       "      <td>671.6363</td>\n",
       "    </tr>\n",
       "  </tbody>\n",
       "</table>\n",
       "</div>"
      ],
      "text/plain": [
       "     Region/Country/Area  Year                       Series     Value\n",
       "4353             Morocco  1985  GDP per capita (US dollars)  671.6363"
      ]
     },
     "execution_count": 193,
     "metadata": {},
     "output_type": "execute_result"
    }
   ],
   "source": [
    "# find AMU member with lower GDP \n",
    "Low_gdppercapita_AMUcountries=AMU_GDP_per_capita [AMU_GDP_per_capita ['Value']==minimum2]\n",
    "Low_gdppercapita_AMUcountries"
   ]
  },
  {
   "cell_type": "code",
   "execution_count": 194,
   "id": "4f32968e",
   "metadata": {},
   "outputs": [
    {
     "data": {
      "image/png": "[encoded data removed]",
      "text/plain": [
       "<Figure size 432x288 with 1 Axes>"
      ]
     },
     "metadata": {
      "needs_background": "light"
     },
     "output_type": "display_data"
    }
   ],
   "source": [
    "\n",
    "plt.title('GDP per capita(percent) of AMU')\n",
    "plt.hist( AMU_GDP_per_capita ['Value'], bins=10)\n",
    "plt.xlabel('GDP value')\n",
    "plt.ylabel('frequency')\n",
    "plt.show()"
   ]
  },
  {
   "cell_type": "code",
   "execution_count": 195,
   "id": "a9495373",
   "metadata": {},
   "outputs": [],
   "source": [
    "AMU_AL = AMU_GDP_per_capita [AMU_GDP_per_capita ['Region/Country/Area'] == 'Algeria'] \n",
    "AMU_LB =AMU_GDP_per_capita [AMU_GDP_per_capita ['Region/Country/Area'] == 'Libya'] \n",
    "AMU_MA = AMU_GDP_per_capita [AMU_GDP_per_capita ['Region/Country/Area'] == 'Mauritania'] \n",
    "AMU_MO = AMU_GDP_per_capita [AMU_GDP_per_capita ['Region/Country/Area'] == 'Morocco'] \n",
    "AMU_TU = AMU_GDP_per_capita [AMU_GDP_per_capita ['Region/Country/Area'] == 'Tunisia'] \n",
    " "
   ]
  },
  {
   "cell_type": "code",
   "execution_count": 196,
   "id": "2fd25337",
   "metadata": {},
   "outputs": [
    {
     "data": {
      "image/png": "[encoded data removed]",
      "text/plain": [
       "<Figure size 432x288 with 1 Axes>"
      ]
     },
     "metadata": {
      "needs_background": "light"
     },
     "output_type": "display_data"
    }
   ],
   "source": [
    "plt.title('Line graph of GDP per capita of Arab Mahreb union members')\n",
    "plt.xlabel('year')\n",
    "plt.ylabel('GDP in dollar')\n",
    "plt.plot(AMU_AL['Year'],AMU_AL['Value'], label = 'AL')\n",
    "plt.plot(AMU_LB['Year'],AMU_LB['Value'], label = 'LB' )\n",
    "plt.plot(AMU_MA['Year'],AMU_MA['Value'], label = 'MA')\n",
    "plt.plot(AMU_MO['Year'],AMU_MO['Value'], label = 'MO')\n",
    "plt.plot(AMU_TU['Year'],AMU_TU['Value'], label = 'TU')\n",
    "plt.legend()\n",
    "plt.show()"
   ]
  },
  {
   "cell_type": "code",
   "execution_count": 197,
   "id": "4a97d77d",
   "metadata": {},
   "outputs": [
    {
     "data": {
      "image/png": "[encoded data removed]",
      "text/plain": [
       "<Figure size 432x288 with 1 Axes>"
      ]
     },
     "metadata": {
      "needs_background": "light"
     },
     "output_type": "display_data"
    }
   ],
   "source": [
    "plt.title('Scatter plot graph of GDP per capita of AMU countries')\n",
    "plt.xlabel('year')\n",
    "plt.ylabel('GDP in dollar')\n",
    "plt.scatter(AMU_AL['Year'],AMU_AL['Value'], label = 'AL')\n",
    "plt.scatter(AMU_LB['Year'],AMU_LB['Value'], label = 'LB' )\n",
    "plt.scatter(AMU_MA['Year'],AMU_MA['Value'], label = 'MA')\n",
    "plt.scatter(AMU_MO['Year'],AMU_MO['Value'], label = 'MO')\n",
    "plt.scatter(AMU_TU['Year'],AMU_TU['Value'], label = 'TU')\n",
    "plt.legend()\n",
    "plt.show()"
   ]
  },
  {
   "cell_type": "markdown",
   "id": "a79a45e2",
   "metadata": {},
   "source": [
    "# END OF OUR DATA EXPLORATION"
   ]
  }
 ],
 "metadata": {
  "kernelspec": {
   "display_name": "Python 3 (ipykernel)",
   "language": "python",
   "name": "python3"
  },
  "language_info": {
   "codemirror_mode": {
    "name": "ipython",
    "version": 3
   },
   "file_extension": ".py",
   "mimetype": "text/x-python",
   "name": "python",
   "nbconvert_exporter": "python",
   "pygments_lexer": "ipython3",
   "version": "3.8.8"
  }
 },
 "nbformat": 4,
 "nbformat_minor": 5
}
